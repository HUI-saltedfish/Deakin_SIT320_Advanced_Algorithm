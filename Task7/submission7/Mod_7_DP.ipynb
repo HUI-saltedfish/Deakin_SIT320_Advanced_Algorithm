{
 "cells": [
  {
   "cell_type": "markdown",
   "id": "complex-ideal",
   "metadata": {},
   "source": [
    "# Lab 4a: Dynamic Programming"
   ]
  },
  {
   "cell_type": "markdown",
   "id": "dynamic-hearing",
   "metadata": {},
   "source": [
    "Lab associated with Module 4a: Dynamic Programming"
   ]
  },
  {
   "cell_type": "markdown",
   "id": "reliable-thomson",
   "metadata": {},
   "source": [
    "***"
   ]
  },
  {
   "cell_type": "code",
   "execution_count": 2,
   "id": "unknown-effort",
   "metadata": {},
   "outputs": [
    {
     "name": "stderr",
     "output_type": "stream",
     "text": [
      "C:\\Users\\25848\\AppData\\Local\\Temp\\ipykernel_14632\\1522478529.py:2: DeprecationWarning: Importing display from IPython.core.display is deprecated since IPython 7.14, please import from IPython display\n",
      "  from IPython.core.display import display, HTML\n"
     ]
    },
    {
     "data": {
      "text/plain": "<IPython.core.display.HTML object>",
      "text/html": "<style>.container { width:95% !important; }</style>"
     },
     "metadata": {},
     "output_type": "display_data"
    }
   ],
   "source": [
    "# The following lines are used to increase the width of cells to utilize more space on the screen \n",
    "from IPython.core.display import display, HTML\n",
    "display(HTML(\"<style>.container { width:95% !important; }</style>\"))"
   ]
  },
  {
   "cell_type": "markdown",
   "id": "civilian-racing",
   "metadata": {},
   "source": [
    "***"
   ]
  },
  {
   "cell_type": "markdown",
   "id": "moving-violence",
   "metadata": {},
   "source": [
    "### Section 0: Imports"
   ]
  },
  {
   "cell_type": "code",
   "execution_count": 3,
   "id": "familiar-letters",
   "metadata": {},
   "outputs": [],
   "source": [
    "import numpy as np"
   ]
  },
  {
   "cell_type": "code",
   "execution_count": 4,
   "id": "recovered-literacy",
   "metadata": {},
   "outputs": [],
   "source": [
    "import math"
   ]
  },
  {
   "cell_type": "code",
   "execution_count": 5,
   "id": "multiple-chair",
   "metadata": {},
   "outputs": [],
   "source": [
    "from IPython.display import Image\n",
    "from graphviz import Digraph"
   ]
  },
  {
   "cell_type": "markdown",
   "id": "hungarian-sentence",
   "metadata": {},
   "source": [
    "Details of Digraph package: https://h1ros.github.io/posts/introduction-to-graphviz-in-jupyter-notebook/"
   ]
  },
  {
   "cell_type": "markdown",
   "id": "anonymous-sphere",
   "metadata": {},
   "source": [
    "***"
   ]
  },
  {
   "cell_type": "markdown",
   "id": "fiscal-video",
   "metadata": {},
   "source": [
    "### <font color='red'> Section 1: Write the code for finding the Longest Common Sub-sequence. Make sure you output the Matrix C and the longest sub-sequence. Test your code with various use-cases. </font>"
   ]
  },
  {
   "cell_type": "code",
   "execution_count": 3,
   "id": "developed-pharmacy",
   "metadata": {},
   "outputs": [
    {
     "name": "stdout",
     "output_type": "stream",
     "text": [
      "(3, 'ACG')\n"
     ]
    }
   ],
   "source": [
    "### TODO ###\n",
    "### Good Luck ###\n",
    "def LCS(s1, s2):\n",
    "    # write code here\n",
    "    m, n = len(s1), len(s2)\n",
    "    dp_str = [[''] * (n + 1) for _ in range(m + 1)]\n",
    "    dp_matrix = [[0] * (n + 1) for _ in range(m + 1)]\n",
    "    for i in range(1, m + 1):\n",
    "        for j in range(1, n + 1):\n",
    "            if s1[i - 1] == s2[j - 1]:\n",
    "                dp_str[i][j] = dp_str[i - 1][j - 1] + s1[i - 1]\n",
    "                dp_matrix[i][j] = dp_matrix[i - 1][j - 1] + 1\n",
    "            else:\n",
    "                if len(dp_str[i - 1][j])>len(dp_str[i][j - 1]):\n",
    "                    dp_str[i][j] =dp_str[i - 1][j]\n",
    "                else:\n",
    "                    dp_str[i][j] =dp_str[i][j - 1]\n",
    "                dp_matrix[i][j] = max(dp_matrix[i - 1][j], dp_matrix[i][j - 1])\n",
    "    if dp_str[m][n]=='':\n",
    "        return -1\n",
    "    else:\n",
    "        return dp_matrix[m][n], dp_str[m][n]\n",
    "\n",
    "s1 = \"ACGGA\"\n",
    "s2 = \"ACTG\"\n",
    "\n",
    "print(LCS(s1, s2))\n",
    "\n"
   ]
  },
  {
   "cell_type": "markdown",
   "id": "developed-crest",
   "metadata": {},
   "source": [
    "***"
   ]
  },
  {
   "cell_type": "markdown",
   "id": "subject-annual",
   "metadata": {},
   "source": [
    "***"
   ]
  },
  {
   "cell_type": "markdown",
   "id": "enormous-bishop",
   "metadata": {},
   "source": [
    "### Section 2: Unbounded Knapsack Problem"
   ]
  },
  {
   "cell_type": "markdown",
   "id": "grand-decision",
   "metadata": {},
   "source": [
    "Let us build a solution to unbounded Knapsack problem."
   ]
  },
  {
   "cell_type": "code",
   "execution_count": 30,
   "id": "connected-sustainability",
   "metadata": {},
   "outputs": [],
   "source": [
    "def unboundedKnapsack(W, n, wt, vals, names):\n",
    " \n",
    "    K = [0 for i in range(W + 1)]\n",
    "    ITEMS = [[] for i in range(W + 1)]\n",
    " \n",
    "    for x in range(1, W + 1):\n",
    "        K[x] = 0 if x < wt[0] else vals[0]\n",
    "        for i in range(1, n):\n",
    "            \n",
    "            prev_k = K[x]\n",
    "            \n",
    "            if wt[i] <= x:\n",
    "                K[x] = max(K[x], K[x - wt[i]] + vals[i])\n",
    "                \n",
    "            if K[x] != prev_k:\n",
    "                ITEMS[x] = ITEMS[x - wt[i]] + names[i]\n",
    "                \n",
    " \n",
    "    return K[W], ITEMS[W]"
   ]
  },
  {
   "cell_type": "code",
   "execution_count": 31,
   "id": "tropical-catalyst",
   "metadata": {},
   "outputs": [
    {
     "name": "stdout",
     "output_type": "stream",
     "text": [
      "We have 3 items\n"
     ]
    }
   ],
   "source": [
    "W = 4\n",
    "wt = [1, 2, 3]\n",
    "vals = [1, 4, 6]\n",
    "names = [[\"Turtle\"], [\"Globe\"], [\"WaterMelon\"]]\n",
    "\n",
    "n = len(names)\n",
    "\n",
    "print('We have {} items'.format(n))                "
   ]
  },
  {
   "cell_type": "code",
   "execution_count": 32,
   "id": "noble-wayne",
   "metadata": {},
   "outputs": [],
   "source": [
    "K, ITEMS = unboundedKnapsack(W, n, wt, vals, names)"
   ]
  },
  {
   "cell_type": "code",
   "execution_count": 33,
   "id": "english-property",
   "metadata": {},
   "outputs": [
    {
     "data": {
      "text/plain": "['Globe', 'Globe']"
     },
     "execution_count": 33,
     "metadata": {},
     "output_type": "execute_result"
    }
   ],
   "source": [
    "ITEMS"
   ]
  },
  {
   "cell_type": "code",
   "execution_count": 9,
   "id": "moderate-orbit",
   "metadata": {},
   "outputs": [
    {
     "name": "stdout",
     "output_type": "stream",
     "text": [
      "We have 5 items\n",
      "42 ['sandwich', 'sandwich', 'Globe', 'Globe']\n"
     ]
    }
   ],
   "source": [
    "# ------------------------------\n",
    "# Code Reflections\n",
    "# ------------------------------\n",
    "W = 10\n",
    "wt = [6, 2, 4, 3, 11]\n",
    "vals = [20, 8, 14, 13, 35]\n",
    "names = [[\"Turtle\"], [\"Globe\"], [\"WaterMelon\"], [\"sandwich\"], [\"ambulance\"]]\n",
    "\n",
    "n = len(names)\n",
    "\n",
    "print('We have {} items'.format(n))\n",
    "K, ITEMS = unboundedKnapsack(W, n, wt, vals, names)\n",
    "print(K, ITEMS)"
   ]
  },
  {
   "cell_type": "markdown",
   "id": "divine-glossary",
   "metadata": {},
   "source": [
    "***"
   ]
  },
  {
   "cell_type": "markdown",
   "id": "induced-papua",
   "metadata": {},
   "source": [
    "### <font color='red'> Section 3: In the earlier activity, you analysed the code for unbounded knapsack. Based on the algorithm discussed in this section, implement an solution to do 0/1 Knapsack. Make sure you test your algorithms for various test-cases. </font>"
   ]
  },
  {
   "cell_type": "code",
   "execution_count": 45,
   "id": "floral-reggae",
   "metadata": {},
   "outputs": [],
   "source": [
    "#### TODO ####\n",
    "### Good Luck ###\n",
    "def Zero_One_Knapsack(bag_size, weight, value) -> int:\n",
    "\trows, cols = len(weight), bag_size + 1\n",
    "\tdp = [[0 for _ in range(cols)] for _ in range(rows)]\n",
    "\n",
    "\tfor i in range(rows):\n",
    "\t\tdp[i][0] = 0\n",
    "\tfirst_item_weight, first_item_value = weight[0], value[0]\n",
    "\tfor j in range(1, cols):\n",
    "\t\tif first_item_weight <= j:\n",
    "\t\t\tdp[0][j] = first_item_value\n",
    "\n",
    "\tfor i in range(1, len(weight)):\n",
    "\t\tcur_weight, cur_val = weight[i], value[i]\n",
    "\t\tfor j in range(1, cols):\n",
    "\t\t\tif cur_weight > j:\n",
    "\t\t\t\tdp[i][j] = dp[i - 1][j]\n",
    "\t\t\telse:\n",
    "\t\t\t\tdp[i][j] = max(dp[i - 1][j], dp[i - 1][j - cur_weight]+ cur_val)\n",
    "\n",
    "\treturn dp[-1][-1]"
   ]
  },
  {
   "cell_type": "markdown",
   "id": "asian-garbage",
   "metadata": {},
   "source": [
    "Class Room Test-case"
   ]
  },
  {
   "cell_type": "code",
   "execution_count": 47,
   "id": "earned-sierra",
   "metadata": {
    "pycharm": {
     "name": "#%%\n"
    }
   },
   "outputs": [
    {
     "name": "stdout",
     "output_type": "stream",
     "text": [
      "We have 5 items\n",
      "[[0, 0, 0, 0, 0, 0, 20, 20, 20, 20, 20], [0, 0, 8, 8, 8, 8, 20, 20, 28, 28, 28], [0, 0, 8, 8, 14, 14, 22, 22, 28, 28, 34], [0, 0, 8, 13, 14, 21, 22, 27, 28, 35, 35], [0, 0, 8, 13, 14, 21, 22, 27, 28, 35, 35]]\n"
     ]
    }
   ],
   "source": [
    "W = 10\n",
    "V = [20, 8, 14, 13, 35]\n",
    "w = [6, 2, 4, 3, 11]\n",
    "\n",
    "n = len(V)\n",
    "\n",
    "print('We have {} items'.format(n))\n",
    "K = Zero_One_Knapsack(W, w, V)"
   ]
  }
 ],
 "metadata": {
  "kernelspec": {
   "name": "pytorch_env",
   "language": "python",
   "display_name": "pytorch_env"
  },
  "language_info": {
   "codemirror_mode": {
    "name": "ipython",
    "version": 3
   },
   "file_extension": ".py",
   "mimetype": "text/x-python",
   "name": "python",
   "nbconvert_exporter": "python",
   "pygments_lexer": "ipython3",
   "version": "3.7.9"
  }
 },
 "nbformat": 4,
 "nbformat_minor": 5
}