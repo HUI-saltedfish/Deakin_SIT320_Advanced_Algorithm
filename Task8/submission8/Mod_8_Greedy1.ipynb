{
 "cells": [
  {
   "cell_type": "markdown",
   "id": "imposed-playlist",
   "metadata": {},
   "source": [
    "# Lab 5a: Greedy Algorithms"
   ]
  },
  {
   "cell_type": "code",
   "execution_count": 9,
   "outputs": [],
   "source": [],
   "metadata": {
    "collapsed": false,
    "pycharm": {
     "name": "#%%\n"
    }
   }
  },
  {
   "cell_type": "markdown",
   "id": "d97cce87",
   "metadata": {},
   "source": [
    "Lab associated with Module 5a: Greedy Algorithms"
   ]
  },
  {
   "cell_type": "markdown",
   "id": "5c7f2e9d",
   "metadata": {},
   "source": [
    "***"
   ]
  },
  {
   "cell_type": "code",
   "execution_count": 10,
   "id": "5b495ad0",
   "metadata": {},
   "outputs": [
    {
     "name": "stderr",
     "output_type": "stream",
     "text": [
      "C:\\Users\\25848\\AppData\\Local\\Temp\\ipykernel_19000\\1522478529.py:2: DeprecationWarning: Importing display from IPython.core.display is deprecated since IPython 7.14, please import from IPython display\n",
      "  from IPython.core.display import display, HTML\n"
     ]
    },
    {
     "data": {
      "text/plain": "<IPython.core.display.HTML object>",
      "text/html": "<style>.container { width:95% !important; }</style>"
     },
     "metadata": {},
     "output_type": "display_data"
    }
   ],
   "source": [
    "# The following lines are used to increase the width of cells to utilize more space on the screen \n",
    "from IPython.core.display import display, HTML\n",
    "display(HTML(\"<style>.container { width:95% !important; }</style>\"))"
   ]
  },
  {
   "cell_type": "markdown",
   "id": "3a2b855c",
   "metadata": {},
   "source": [
    "***"
   ]
  },
  {
   "cell_type": "markdown",
   "id": "9d0921a0",
   "metadata": {},
   "source": [
    "### Section 0: Imports"
   ]
  },
  {
   "cell_type": "code",
   "execution_count": 11,
   "id": "477622d5",
   "metadata": {},
   "outputs": [],
   "source": [
    "import numpy as np"
   ]
  },
  {
   "cell_type": "code",
   "execution_count": 12,
   "id": "50fb5ed5",
   "metadata": {},
   "outputs": [],
   "source": [
    "import math"
   ]
  },
  {
   "cell_type": "code",
   "execution_count": 13,
   "id": "9910ee06",
   "metadata": {},
   "outputs": [],
   "source": [
    "from IPython.display import Image\n",
    "from graphviz import Digraph"
   ]
  },
  {
   "cell_type": "markdown",
   "id": "e748249f",
   "metadata": {},
   "source": [
    "Install heapdict through Anaconda Navigator or Pip or Conda"
   ]
  },
  {
   "cell_type": "code",
   "execution_count": 14,
   "id": "2eb12be4",
   "metadata": {},
   "outputs": [],
   "source": [
    "import heapdict as heapdict"
   ]
  },
  {
   "cell_type": "markdown",
   "id": "7f9321f8",
   "metadata": {},
   "source": [
    "***"
   ]
  },
  {
   "cell_type": "markdown",
   "id": "1309ad59",
   "metadata": {},
   "source": [
    "### Section 1: Greedy Algorithm for Activity Selection"
   ]
  },
  {
   "cell_type": "markdown",
   "id": "4b8e52ca",
   "metadata": {},
   "source": [
    "A simple greedy algorithm based on sorted activities can written as:"
   ]
  },
  {
   "cell_type": "code",
   "execution_count": 15,
   "id": "2a6897da",
   "metadata": {},
   "outputs": [],
   "source": [
    "# activities are sorted by end time\n",
    "def greedyActivitySelection(activities):\n",
    "    \n",
    "    schedule = []\n",
    "    \n",
    "    currentTime = activities[0][0] - 1 # start before any of the activities start.\n",
    "    \n",
    "    for i in range(len(activities)):\n",
    "        start, finish = activities[i]\n",
    "        if start > currentTime:\n",
    "            schedule.append(i)\n",
    "            currentTime = finish\n",
    "    \n",
    "    return schedule"
   ]
  },
  {
   "cell_type": "markdown",
   "id": "1cb9c687",
   "metadata": {},
   "source": [
    "Let us test above function as:"
   ]
  },
  {
   "cell_type": "code",
   "execution_count": 16,
   "id": "55b3a75e",
   "metadata": {},
   "outputs": [
    {
     "name": "stdout",
     "output_type": "stream",
     "text": [
      "Solution:\n",
      "[1, 4]\n",
      "[5, 7]\n",
      "[8, 10]\n",
      "[13, 15]\n"
     ]
    }
   ],
   "source": [
    "activities = [[1,4],[2,5],[3,6],[5,7],[3,8],[6,9],[8,10],[9,11],[5,12],[6,13],[8,14],[13,15] ]\n",
    "\n",
    "activityList = greedyActivitySelection(activities)\n",
    "\n",
    "print(\"Solution:\")\n",
    "for act in activityList:\n",
    "    print(activities[act])"
   ]
  },
  {
   "cell_type": "markdown",
   "id": "8d527834",
   "metadata": {},
   "source": [
    "Modify above code to implement sorting of the activities. "
   ]
  },
  {
   "cell_type": "markdown",
   "id": "0274c62c",
   "metadata": {},
   "source": [
    "***"
   ]
  },
  {
   "cell_type": "markdown",
   "id": "f9b31a04",
   "metadata": {},
   "source": [
    "### <font color='red'> Activity 1: Analyse the greedy algorithm for Activity Selection problem in this week's lab. Demonstrate your understanding of the code.. </font>"
   ]
  },
  {
   "cell_type": "code",
   "execution_count": 17,
   "id": "8d176b03",
   "metadata": {},
   "outputs": [
    {
     "name": "stdout",
     "output_type": "stream",
     "text": [
      "Solution:\n",
      "[1, 4]\n",
      "[5, 7]\n"
     ]
    }
   ],
   "source": [
    "#### TODO ####\n",
    "### Good Luck ###\n",
    "activities = [[1,4],[2,5],[3,6],[5,7],[3,8],[6,9]]\n",
    "\n",
    "activityList = greedyActivitySelection(activities)\n",
    "\n",
    "print(\"Solution:\")\n",
    "for act in activityList:\n",
    "    print(activities[act])\n",
    "\n",
    "\n",
    "\n",
    "\n",
    "\n",
    "\n"
   ]
  },
  {
   "cell_type": "markdown",
   "id": "configured-swedish",
   "metadata": {},
   "source": [
    "### <font color='red'> Activity 2: Devise a dynamic programming solution to Activity Selection problem, and see if you get the same results as that of greedy strategy. </font>"
   ]
  },
  {
   "cell_type": "code",
   "execution_count": 22,
   "id": "piano-programming",
   "metadata": {},
   "outputs": [
    {
     "name": "stdout",
     "output_type": "stream",
     "text": [
      "(4, [[1, 4], [5, 7], [8, 10], [13, 15]])\n"
     ]
    }
   ],
   "source": [
    "#### TODO ####\n",
    "### Good Luck ###\n",
    "import copy\n",
    "def findNonConflictingJobsLength(jobs):\n",
    "    # Sort the jobs according to increasing order of their start time\n",
    "    jobs.sort(key=lambda x: x[0])\n",
    "\n",
    "    # L[i] stores the maximum count of non-conflicting jobs ending at i'th job\n",
    "    L = [0] * len(jobs)\n",
    "    L_a = [[] for _ in range(len(jobs))]\n",
    "\n",
    "    for i in range(len(jobs)):\n",
    "        # consider each `j` less than `i`\n",
    "        for j in range(i):\n",
    "            # L[i] = max(L[j]), where `jobs[j].finish` is less than `jobs[i].start`\n",
    "            if jobs[j][1] < jobs[i][0] and L[i] < L[j]:\n",
    "                L[i] = L[j]\n",
    "                L_a[i] = copy.deepcopy(L_a[j])\n",
    "\n",
    "        # increment L[i] since it ends at the i'th job\n",
    "        L[i] = L[i] + 1\n",
    "        L_a[i].append(jobs[i])\n",
    "\n",
    "    # return the maximum job length in the list\n",
    "    return L[-1], L_a[-1]\n",
    "\n",
    "jobs = [[1,4],[2,5],[3,6],[5,7],[3,8],[6,9],[8,10],[9,11],[5,12],[6,13],[8,14],[13,15] ]\n",
    "print(findNonConflictingJobsLength(job(4, [[1, 4], [5, 7], [8, 10], [13, 15]])s))"
   ]
  },
  {
   "cell_type": "markdown",
   "id": "9c64f77d",
   "metadata": {},
   "source": [
    "***"
   ]
  },
  {
   "cell_type": "markdown",
   "id": "0ddf024b",
   "metadata": {},
   "source": [
    "### Section 3: Huffman Coding"
   ]
  },
  {
   "cell_type": "code",
   "execution_count": 23,
   "id": "82f0ad8e",
   "metadata": {},
   "outputs": [],
   "source": [
    "class node:\n",
    "    \n",
    "    def __init__(self, freq, symbol, left=None, right=None):\n",
    "        \n",
    "        self.freq = freq\n",
    "        self.symbol = symbol\n",
    " \n",
    "        self.left = left\n",
    "        self.right = right\n",
    " \n",
    "        self.val = ''"
   ]
  },
  {
   "cell_type": "code",
   "execution_count": 24,
   "id": "5a7cd0dd",
   "metadata": {},
   "outputs": [],
   "source": [
    "letters = ['A', 'B', 'C', 'D', 'E', 'F']\n",
    " \n",
    "frequency = [45, 13, 12, 16, 9, 5]\n",
    "\n",
    "# Let us make use of list to store nodes\n",
    " \n",
    "nodes = []\n",
    " \n",
    "# Put all the nodes in the list first\n",
    "\n",
    "for x in range(len(letters)):\n",
    "    \n",
    "    nodes.append(node(frequency[x], letters[x]))"
   ]
  },
  {
   "cell_type": "markdown",
   "id": "a06e3471",
   "metadata": {},
   "source": [
    "Time to build the tree"
   ]
  },
  {
   "cell_type": "code",
   "execution_count": 25,
   "id": "b4ac7dc0",
   "metadata": {},
   "outputs": [],
   "source": [
    "while len(nodes) > 1:\n",
    "    # We need to sort the nodes based on the value of the frequency-field\n",
    "    nodes = sorted(nodes, key=lambda x: x.freq)\n",
    " \n",
    "    # The following two nodes are the smallest, let us call them S1 and S2\n",
    "\n",
    "    S1 = nodes[0]\n",
    "    S2 = nodes[1]\n",
    " \n",
    "    S1.val = 0\n",
    "    S2.val = 1\n",
    "\n",
    "    # make the super node\n",
    "    \n",
    "    S12 = node(S1.freq + S2.freq, S1.symbol + S2.symbol, S1, S2)\n",
    " \n",
    "    # remove the two nodes from our consideration next\n",
    "    \n",
    "    nodes.remove(S1)\n",
    "    nodes.remove(S2)\n",
    "    \n",
    "    nodes.append(S12)"
   ]
  },
  {
   "cell_type": "markdown",
   "id": "b3383e7f",
   "metadata": {},
   "source": [
    "Okay, now we have built the tree, let us display the codes. Note, we will have to recursively traverse the tree"
   ]
  },
  {
   "cell_type": "code",
   "execution_count": 26,
   "id": "c313636c",
   "metadata": {},
   "outputs": [],
   "source": [
    "def printCode(node, val=''):\n",
    "    \n",
    "    code = val + str(node.val)\n",
    "\n",
    "    if node.left:\n",
    "        printCode(node.left, code)\n",
    "        \n",
    "    if node.right:\n",
    "        printCode(node.right, code)    \n",
    "        \n",
    "    if not (node.left and node.right):\n",
    "        print('Letter = {}, Code = {}'.format(node.symbol, code))"
   ]
  },
  {
   "cell_type": "code",
   "execution_count": 27,
   "id": "e72efdba",
   "metadata": {},
   "outputs": [
    {
     "name": "stdout",
     "output_type": "stream",
     "text": [
      "Letter = A, Code = 0\n",
      "Letter = C, Code = 100\n",
      "Letter = B, Code = 101\n",
      "Letter = F, Code = 1100\n",
      "Letter = E, Code = 1101\n",
      "Letter = D, Code = 111\n"
     ]
    }
   ],
   "source": [
    "printCode(nodes[0])"
   ]
  },
  {
   "cell_type": "markdown",
   "id": "leading-intensity",
   "metadata": {},
   "source": [
    "### <font color='red'> Activity 3: Code Reflections. </font>"
   ]
  },
  {
   "cell_type": "code",
   "execution_count": 29,
   "id": "68e9391d",
   "metadata": {},
   "outputs": [
    {
     "name": "stdout",
     "output_type": "stream",
     "text": [
      "Letter = A, Code = 00\n",
      "Letter = C, Code = 010\n",
      "Letter = F, Code = 0110\n",
      "Letter = B, Code = 0111\n",
      "Letter = E, Code = 10\n",
      "Letter = D, Code = 11\n"
     ]
    }
   ],
   "source": [
    "letters = ['A', 'B', 'C', 'D', 'E', 'F']\n",
    "frequency = [45, 20, 22, 78, 60, 5]\n",
    "# Let us make use of list to store nodes\n",
    "nodes = []\n",
    "# Put all the nodes in the list first\n",
    "for x in range(len(letters)):\n",
    "    nodes.append(node(frequency[x], letters[x]))\n",
    "\n",
    "while len(nodes) > 1:\n",
    "    # We need to sort the nodes based on the value of the frequency-field\n",
    "    nodes = sorted(nodes, key=lambda x: x.freq)\n",
    "    # The following two nodes are the smallest, let us call them S1 and S2\n",
    "    S1 = nodes[0]\n",
    "    S2 = nodes[1]\n",
    "    S1.val = 0\n",
    "    S2.val = 1\n",
    "    # make the super node\n",
    "    S12 = node(S1.freq + S2.freq, S1.symbol + S2.symbol, S1, S2)\n",
    "    # remove the two nodes from our consideration next\n",
    "    nodes.remove(S1)\n",
    "    nodes.remove(S2)\n",
    "    nodes.append(S12)\n",
    "\n",
    "def printCode(node, val=''):\n",
    "    code = val + str(node.val)\n",
    "    if node.left:\n",
    "        printCode(node.left, code)\n",
    "    if node.right:\n",
    "        printCode(node.right, code)\n",
    "    if not (node.left and node.right):\n",
    "        print('Letter = {}, Code = {}'.format(node.symbol, code))\n",
    "printCode(nodes[0])"
   ]
  },
  {
   "cell_type": "markdown",
   "id": "6570890e",
   "metadata": {},
   "source": [
    "***"
   ]
  },
  {
   "cell_type": "markdown",
   "id": "6e92fc09",
   "metadata": {},
   "source": [
    "### <font color='red'> Section 4: Prim's Algorithm. </font>"
   ]
  },
  {
   "cell_type": "markdown",
   "id": "ce467019",
   "metadata": {},
   "source": [
    "Graph's Preliminaries"
   ]
  },
  {
   "cell_type": "code",
   "execution_count": 32,
   "id": "4cdc7ece",
   "metadata": {},
   "outputs": [],
   "source": [
    "from graph import *"
   ]
  },
  {
   "cell_type": "code",
   "execution_count": 33,
   "id": "a75ba3ec",
   "metadata": {},
   "outputs": [],
   "source": [
    "G = Graph()\n",
    "for i in ['A', 'B', 'C', 'D', 'E', 'F', 'G', 'H', 'I']:\n",
    "    G.addVertex(Node(i))"
   ]
  },
  {
   "cell_type": "code",
   "execution_count": 34,
   "id": "c990d75e",
   "metadata": {},
   "outputs": [],
   "source": [
    "V = G.vertices\n",
    "#0, 1, 2, 3, 4, 5, 6, 7, 8\n",
    "#A, B, C, D, E, F, G, H, I\n",
    "\n",
    "G.addBiEdge( V[0], V[1], 4)\n",
    "G.addBiEdge( V[0], V[7] , 8)\n",
    "G.addBiEdge( V[1], V[7], 11)\n",
    "G.addBiEdge( V[1], V[2], 8)\n",
    "G.addBiEdge( V[2], V[3], 7)\n",
    "G.addBiEdge( V[3], V[4], 9)\n",
    "G.addBiEdge( V[3], V[5], 14 )\n",
    "G.addBiEdge( V[4], V[5], 10 )\n",
    "G.addBiEdge( V[2], V[5], 4 )\n",
    "G.addBiEdge( V[2], V[8], 2 )\n",
    "G.addBiEdge( V[5], V[6], 2 )\n",
    "G.addBiEdge( V[6], V[7], 1 )\n",
    "G.addBiEdge( V[6], V[8], 6 )\n",
    "G.addBiEdge( V[7], V[8], 7 )"
   ]
  },
  {
   "cell_type": "code",
   "execution_count": 35,
   "id": "2ac81f26",
   "metadata": {},
   "outputs": [
    {
     "name": "stdout",
     "output_type": "stream",
     "text": [
      "Graph with:\n",
      "\t Vertices:\n",
      "\tA,B,C,D,E,F,G,H,I,\n",
      "\t Edges:\n",
      "\t(A,(<graph.Node object at 0x000002440D181190>, 4)) (A,(<graph.Node object at 0x000002440D1815E0>, 8)) (B,(<graph.Node object at 0x000002440D181340>, 4)) (B,(<graph.Node object at 0x000002440D1815E0>, 11)) (B,(<graph.Node object at 0x000002440D181220>, 8)) (C,(<graph.Node object at 0x000002440D181190>, 8)) (C,(<graph.Node object at 0x000002440D181100>, 7)) (C,(<graph.Node object at 0x000002440D1813D0>, 4)) (C,(<graph.Node object at 0x000002440D181AC0>, 2)) (D,(<graph.Node object at 0x000002440D181220>, 7)) (D,(<graph.Node object at 0x000002440D1810D0>, 9)) (D,(<graph.Node object at 0x000002440D1813D0>, 14)) (E,(<graph.Node object at 0x000002440D181100>, 9)) (E,(<graph.Node object at 0x000002440D1813D0>, 10)) (F,(<graph.Node object at 0x000002440D181100>, 14)) (F,(<graph.Node object at 0x000002440D1810D0>, 10)) (F,(<graph.Node object at 0x000002440D181220>, 4)) (F,(<graph.Node object at 0x000002440D181580>, 2)) (G,(<graph.Node object at 0x000002440D1813D0>, 2)) (G,(<graph.Node object at 0x000002440D1815E0>, 1)) (G,(<graph.Node object at 0x000002440D181AC0>, 6)) (H,(<graph.Node object at 0x000002440D181340>, 8)) (H,(<graph.Node object at 0x000002440D181190>, 11)) (H,(<graph.Node object at 0x000002440D181580>, 1)) (H,(<graph.Node object at 0x000002440D181AC0>, 7)) (I,(<graph.Node object at 0x000002440D181220>, 2)) (I,(<graph.Node object at 0x000002440D181580>, 6)) (I,(<graph.Node object at 0x000002440D1815E0>, 7)) \n",
      "\n"
     ]
    }
   ],
   "source": [
    "print(G)"
   ]
  },
  {
   "cell_type": "markdown",
   "id": "10941ad1",
   "metadata": {},
   "source": [
    "This is what we had in the lectures as the slow implementation of Prim's Algorithm"
   ]
  },
  {
   "cell_type": "code",
   "execution_count": 36,
   "id": "c75594c0",
   "metadata": {},
   "outputs": [],
   "source": [
    "# G is graph\n",
    "# s is the node to start\n",
    "\n",
    "def slowPrim(G, s):\n",
    "    # first, find the lightest edge leaving s\n",
    "    bestWt = np.inf\n",
    "    bestu = None\n",
    "    \n",
    "    for u,wt in s.getOutNeighborsWithWeights():\n",
    "        \n",
    "        if wt < bestWt:\n",
    "            bestWt = wt\n",
    "            bestu = u\n",
    "    \n",
    "    MST = [(s, bestu)]\n",
    "    verticesVisited = [s,bestu]\n",
    "    \n",
    "    while len(verticesVisited) < len(G.vertices): # danger! this will loop forever if the graph isn't connected...\n",
    "        # find the lightest edge (x,v) so that x has been visited and v hasn't.\n",
    "        bestWt = np.inf\n",
    "        bestv = None\n",
    "        bestx = None\n",
    "        for x in verticesVisited:\n",
    "            for v,wt in x.getOutNeighborsWithWeights():\n",
    "                \n",
    "                if v in verticesVisited:\n",
    "                    continue\n",
    "                \n",
    "                if wt < bestWt:\n",
    "                    bestWt = wt\n",
    "                    bestv = v\n",
    "                    bestx = x\n",
    "                    \n",
    "        MST.append((bestx,bestv))\n",
    "        verticesVisited.append(bestv)\n",
    "    return MST"
   ]
  },
  {
   "cell_type": "code",
   "execution_count": 37,
   "id": "f6ff20d2",
   "metadata": {},
   "outputs": [
    {
     "name": "stdout",
     "output_type": "stream",
     "text": [
      "A B\n",
      "A H\n",
      "H G\n",
      "G F\n",
      "F C\n",
      "C I\n",
      "C D\n",
      "D E\n"
     ]
    }
   ],
   "source": [
    "T = slowPrim(G, G.vertices[0])\n",
    "\n",
    "for x,y in T:\n",
    "    print(x,y)"
   ]
  },
  {
   "cell_type": "markdown",
   "id": "3f2b31e2",
   "metadata": {},
   "source": [
    "Okay, it seems to be working fine, but as we discussed, will be quite slow. Let us see if we can work on the faster version of the code as:"
   ]
  },
  {
   "cell_type": "code",
   "execution_count": 12,
   "id": "e32585d1",
   "metadata": {},
   "outputs": [],
   "source": [
    "def prim(G,w):\n",
    "    for v in G.vertices:\n",
    "        v.estD = np.inf\n",
    "    \n",
    "    w.estD = 0\n",
    "    MST = []\n",
    "    unvisitedVertices = heapdict.heapdict()\n",
    "    \n",
    "    for v in G.vertices:\n",
    "        unvisitedVertices[v] = v.estD\n",
    "    \n",
    "    while len(unvisitedVertices) > 0:\n",
    "        \n",
    "        # find the u with the minimum estD, using the heap\n",
    "        u, dist = unvisitedVertices.popitem() \n",
    "        if u.estD == np.inf:\n",
    "            # then there is nothing more that I can reach; this shouldn't happen if the graph is connected\n",
    "            return \"Graph disconnected :(\"\n",
    "        # add u to the MST\n",
    "        if u.parent != None:  # don't do it for the first vertex\n",
    "            MST.append((u.parent,u))\n",
    "        \n",
    "        # update u's neighbors\n",
    "        for v,wt in u.getOutNeighborsWithWeights():\n",
    "            if v in unvisitedVertices:\n",
    "                if wt < v.estD:\n",
    "                    v.estD = wt\n",
    "                    unvisitedVertices[v] =  wt #update the key in the heapdict\n",
    "                    v.parent = u # v points to u now\n",
    "    return MST"
   ]
  },
  {
   "cell_type": "code",
   "execution_count": 13,
   "id": "e6c07571",
   "metadata": {},
   "outputs": [
    {
     "name": "stdout",
     "output_type": "stream",
     "text": [
      "A B\n",
      "B C\n",
      "C I\n",
      "C F\n",
      "F G\n",
      "G H\n",
      "C D\n",
      "D E\n"
     ]
    }
   ],
   "source": [
    "T = prim(G, G.vertices[0])\n",
    "\n",
    "for x,y in T:\n",
    "    print(x,y)\n"
   ]
  },
  {
   "cell_type": "markdown",
   "id": "creative-constitutional",
   "metadata": {},
   "source": [
    "### <font color='red'> Activity 4: Code Reflections. </font>"
   ]
  },
  {
   "cell_type": "code",
   "execution_count": 38,
   "id": "8fd42b8b",
   "metadata": {},
   "outputs": [
    {
     "name": "stdout",
     "output_type": "stream",
     "text": [
      "A B\n",
      "B C\n",
      "C F\n",
      "C D\n",
      "D E\n"
     ]
    }
   ],
   "source": [
    "G = Graph()\n",
    "for i in ['A', 'B', 'C', 'D', 'E', 'F']:\n",
    "    G.addVertex(Node(i))\n",
    "\n",
    "V = G.vertices\n",
    "#0, 1, 2, 3, 4, 5, 6, 7, 8\n",
    "#A, B, C, D, E, F, G, H, I\n",
    "G.addBiEdge( V[0], V[1], 4)\n",
    "\n",
    "G.addBiEdge( V[1], V[2], 8)\n",
    "G.addBiEdge( V[2], V[3], 7)\n",
    "G.addBiEdge( V[3], V[4], 9)\n",
    "G.addBiEdge( V[3], V[5], 14)\n",
    "G.addBiEdge( V[4], V[5], 10)\n",
    "G.addBiEdge( V[2], V[5], 4)\n",
    "\n",
    "T = slowPrim(G, G.vertices[0])\n",
    "for x,y in T:\n",
    "    print(x,y)"
   ]
  },
  {
   "cell_type": "markdown",
   "id": "cc0f5215",
   "metadata": {},
   "source": [
    "***"
   ]
  },
  {
   "cell_type": "markdown",
   "id": "42212e3d",
   "metadata": {},
   "source": [
    "### <font color='red'> Activity 5: In lights of Prim's Algorithm that you developed above, make your best effort to implement Kruskal's Algorithm. </font>"
   ]
  },
  {
   "cell_type": "code",
   "execution_count": 49,
   "id": "a76173b7",
   "metadata": {},
   "outputs": [
    {
     "name": "stdout",
     "output_type": "stream",
     "text": [
      "Edges in the constructed MST\n",
      "2 -- 3 == 4\n",
      "0 -- 3 == 5\n",
      "0 -- 1 == 10\n",
      "Minimum Spanning Tree 19\n"
     ]
    }
   ],
   "source": [
    "#### TODO ####\n",
    "### Good Luck ###\n",
    "# Python program for Kruskal's algorithm to find\n",
    "# Minimum Spanning Tree of a given connected,\n",
    "# undirected and weighted graph\n",
    "\n",
    "from collections import defaultdict\n",
    "\n",
    "# Class to represent a graph\n",
    "class Graph:\n",
    "\n",
    "\tdef __init__(self, vertices):\n",
    "\t\tself.V = vertices # No. of vertices\n",
    "\t\tself.graph = [] # default dictionary\n",
    "\t\t# to store graph\n",
    "\n",
    "\t# function to add an edge to graph\n",
    "\tdef addEdge(self, u, v, w):\n",
    "\t\tself.graph.append([u, v, w])\n",
    "\n",
    "\t# A utility function to find set of an element i\n",
    "\t# (uses path compression technique)\n",
    "\tdef find(self, parent, i):\n",
    "\t\tif parent[i] == i:\n",
    "\t\t\treturn i\n",
    "\t\treturn self.find(parent, parent[i])\n",
    "\n",
    "\t# A function that does union of two sets of x and y\n",
    "\t# (uses union by rank)\n",
    "\tdef union(self, parent, rank, x, y):\n",
    "\t\txroot = self.find(parent, x)\n",
    "\t\tyroot = self.find(parent, y)\n",
    "\n",
    "\t\t# Attach smaller rank tree under root of\n",
    "\t\t# high rank tree (Union by Rank)\n",
    "\t\tif rank[xroot] < rank[yroot]:\n",
    "\t\t\tparent[xroot] = yroot\n",
    "\t\telif rank[xroot] > rank[yroot]:\n",
    "\t\t\tparent[yroot] = xroot\n",
    "\n",
    "\t\t# If ranks are same, then make one as root\n",
    "\t\t# and increment its rank by one\n",
    "\t\telse:\n",
    "\t\t\tparent[yroot] = xroot\n",
    "\t\t\trank[xroot] += 1\n",
    "\n",
    "\t# The main function to construct MST using Kruskal's\n",
    "\t\t# algorithm\n",
    "\tdef KruskalMST(self):\n",
    "\n",
    "\t\tresult = [] # This will store the resultant MST\n",
    "\n",
    "\t\t# An index variable, used for sorted edges\n",
    "\t\ti = 0\n",
    "\n",
    "\t\t# An index variable, used for result[]\n",
    "\t\te = 0\n",
    "\n",
    "\t\t# Step 1: Sort all the edges in\n",
    "\t\t# non-decreasing order of their\n",
    "\t\t# weight. If we are not allowed to change the\n",
    "\t\t# given graph, we can create a copy of graph\n",
    "\t\tself.graph = sorted(self.graph,\n",
    "\t\t\t\t\t\t\tkey=lambda item: item[2])\n",
    "\n",
    "\t\tparent = []\n",
    "\t\trank = []\n",
    "\n",
    "\t\t# Create V subsets with single elements\n",
    "\t\tfor node in range(self.V):\n",
    "\t\t\tparent.append(node)\n",
    "\t\t\trank.append(0)\n",
    "\n",
    "\t\t# Number of edges to be taken is equal to V-1\n",
    "\t\twhile e < self.V - 1:\n",
    "\n",
    "\t\t\t# Step 2: Pick the smallest edge and increment\n",
    "\t\t\t# the index for next iteration\n",
    "\t\t\tu, v, w = self.graph[i]\n",
    "\t\t\ti = i + 1\n",
    "\t\t\tx = self.find(parent, u)\n",
    "\t\t\ty = self.find(parent, v)\n",
    "\n",
    "\t\t\t# If including this edge doesn't\n",
    "\t\t\t# cause cycle, then include it in result\n",
    "\t\t\t# and increment the index of result\n",
    "\t\t\t# for next edge\n",
    "\t\t\tif x != y:\n",
    "\t\t\t\te = e + 1\n",
    "\t\t\t\tresult.append([u, v, w])\n",
    "\t\t\t\tself.union(parent, rank, x, y)\n",
    "\t\t\t# Else discard the edge\n",
    "\n",
    "\t\tminimumCost = 0\n",
    "\t\tprint(\"Edges in the constructed MST\")\n",
    "\t\tfor u, v, weight in result:\n",
    "\t\t\tminimumCost += weight\n",
    "\t\t\tprint(\"%d -- %d == %d\" % (u, v, weight))\n",
    "\t\tprint(\"Minimum Spanning Tree\", minimumCost)\n",
    "\n",
    "\n",
    "# Driver's code\n",
    "if __name__ == '__main__':\n",
    "\tg = Graph(4)\n",
    "\tg.addEdge(0, 1, 10)\n",
    "\tg.addEdge(0, 2, 6)\n",
    "\tg.addEdge(0, 3, 5)\n",
    "\tg.addEdge(1, 3, 15)\n",
    "\tg.addEdge(2, 3, 4)\n",
    "\n",
    "\t# Function call\n",
    "\tg.KruskalMST()"
   ]
  },
  {
   "cell_type": "markdown",
   "id": "79cfe7ab",
   "metadata": {},
   "source": [
    "***"
   ]
  }
 ],
 "metadata": {
  "kernelspec": {
   "name": "pytorch_env",
   "language": "python",
   "display_name": "pytorch_env"
  },
  "language_info": {
   "codemirror_mode": {
    "name": "ipython",
    "version": 3
   },
   "file_extension": ".py",
   "mimetype": "text/x-python",
   "name": "python",
   "nbconvert_exporter": "python",
   "pygments_lexer": "ipython3",
   "version": "3.7.9"
  }
 },
 "nbformat": 4,
 "nbformat_minor": 5
}