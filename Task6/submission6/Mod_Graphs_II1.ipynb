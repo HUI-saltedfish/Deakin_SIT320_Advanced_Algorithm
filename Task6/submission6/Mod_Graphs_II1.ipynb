{
 "cells": [
  {
   "cell_type": "markdown",
   "id": "imposed-playlist",
   "metadata": {},
   "source": [
    "# Lab 3b: Graphs II"
   ]
  },
  {
   "cell_type": "markdown",
   "id": "d97cce87",
   "metadata": {},
   "source": [
    "Lab associated with Module 3b: Graphs II"
   ]
  },
  {
   "cell_type": "markdown",
   "id": "5c7f2e9d",
   "metadata": {},
   "source": [
    "***"
   ]
  },
  {
   "cell_type": "code",
   "execution_count": 2,
   "id": "5b495ad0",
   "metadata": {},
   "outputs": [
    {
     "name": "stderr",
     "output_type": "stream",
     "text": [
      "C:\\Users\\25848\\AppData\\Local\\Temp\\ipykernel_22576\\1522478529.py:2: DeprecationWarning: Importing display from IPython.core.display is deprecated since IPython 7.14, please import from IPython display\n",
      "  from IPython.core.display import display, HTML\n"
     ]
    },
    {
     "data": {
      "text/plain": "<IPython.core.display.HTML object>",
      "text/html": "<style>.container { width:95% !important; }</style>"
     },
     "metadata": {},
     "output_type": "display_data"
    }
   ],
   "source": [
    "# The following lines are used to increase the width of cells to utilize more space on the screen \n",
    "from IPython.core.display import display, HTML\n",
    "display(HTML(\"<style>.container { width:95% !important; }</style>\"))"
   ]
  },
  {
   "cell_type": "markdown",
   "id": "3a2b855c",
   "metadata": {},
   "source": [
    "***"
   ]
  },
  {
   "cell_type": "markdown",
   "id": "9d0921a0",
   "metadata": {},
   "source": [
    "### Section 0: Imports"
   ]
  },
  {
   "cell_type": "code",
   "execution_count": 3,
   "id": "477622d5",
   "metadata": {},
   "outputs": [],
   "source": [
    "import numpy as np"
   ]
  },
  {
   "cell_type": "code",
   "execution_count": 4,
   "id": "50fb5ed5",
   "metadata": {},
   "outputs": [],
   "source": [
    "import math"
   ]
  },
  {
   "cell_type": "code",
   "execution_count": 5,
   "id": "965de108",
   "metadata": {},
   "outputs": [],
   "source": [
    "from IPython.display import Image\n",
    "from graphviz import Digraph"
   ]
  },
  {
   "cell_type": "markdown",
   "id": "214d69eb",
   "metadata": {},
   "source": [
    "Details of Digraph package: https://h1ros.github.io/posts/introduction-to-graphviz-in-jupyter-notebook/"
   ]
  },
  {
   "cell_type": "markdown",
   "id": "7f9321f8",
   "metadata": {},
   "source": [
    "***"
   ]
  },
  {
   "cell_type": "markdown",
   "id": "317d9bca",
   "metadata": {},
   "source": [
    "### Section 1: Graph Preliminaries"
   ]
  },
  {
   "cell_type": "markdown",
   "id": "cc820c0e",
   "metadata": {},
   "source": [
    "Let us start by implementing our Node and Graph data structure to incorporate weights in the graph"
   ]
  },
  {
   "cell_type": "code",
   "execution_count": 6,
   "id": "d8e6550f",
   "metadata": {},
   "outputs": [],
   "source": [
    "class Node:\n",
    "    \n",
    "    def __init__(self, v):\n",
    "\n",
    "        self.value = v\n",
    "        self.inNeighbors = []\n",
    "        self.outNeighbors = []\n",
    "        \n",
    "        self.status = \"unvisited\"\n",
    "        self.estD = np.inf\n",
    "        \n",
    "    def hasOutNeighbor(self, v):\n",
    "        \n",
    "        if v in self.outNeighbors:\n",
    "            return True\n",
    "        \n",
    "        return False\n",
    "        \n",
    "    def hasInNeighbor(self, v):\n",
    "        \n",
    "        if v in self.inNeighbors:\n",
    "            return True\n",
    "        \n",
    "        return False\n",
    "    \n",
    "    def hasNeighbor(self, v):\n",
    "        \n",
    "        if v in self.inNeighbors or v in self.outNeighbors:\n",
    "            return True\n",
    "        \n",
    "        return False\n",
    "    \n",
    "    def getOutNeighbors(self):\n",
    "        \n",
    "        return self.outNeighbors\n",
    "    \n",
    "    def getInNeighbors(self):\n",
    "        \n",
    "        return self.inNeighbors\n",
    "    \n",
    "    def getOutNeighborsWithWeights(self):\n",
    "        \n",
    "        return self.outNeighbors\n",
    "    \n",
    "    def getInNeighborsWithWeights(self):\n",
    "        \n",
    "        return self.inNeighbors\n",
    "    \n",
    "    # ------------------------------------------------\n",
    "    # Let us modify following two functions to incorporate weights\n",
    "    # ------------------------------------------------\n",
    "    \n",
    "    def addOutNeighbor(self,v,wt):\n",
    "        \n",
    "        self.outNeighbors.append((v,wt))\n",
    "    \n",
    "    def addInNeighbor(self,v,wt):\n",
    "        \n",
    "        self.inNeighbors.append((v,wt))\n",
    "        \n",
    "        \n",
    "    def __str__(self):\n",
    "        \n",
    "        return str(self.value) "
   ]
  },
  {
   "cell_type": "code",
   "execution_count": 7,
   "id": "30ab4c32",
   "metadata": {},
   "outputs": [],
   "source": [
    "class Graph:\n",
    "    \n",
    "    def __init__(self):\n",
    "        \n",
    "        self.vertices = []\n",
    "\n",
    "    def addVertex(self,n):\n",
    "        \n",
    "        self.vertices.append(n)\n",
    "        \n",
    "    # ------------------------------------------------\n",
    "    # Let us modify following two functions to incorporate weights\n",
    "    # ------------------------------------------------\n",
    "        \n",
    "    def addDiEdge(self, u, v, wt = 1):\n",
    "        \n",
    "        u.addOutNeighbor(v, wt = wt)\n",
    "        v.addInNeighbor(u, wt = wt)\n",
    "        \n",
    "    # add edges in both directions between u and v\n",
    "    def addBiEdge(self, u, v, wt = 1):\n",
    "        \n",
    "        self.addDiEdge(u, v, wt = wt)\n",
    "        self.addDiEdge(v, u, wt = wt)\n",
    "        \n",
    "            \n",
    "    # get a list of all the directed edges\n",
    "    # directed edges are a list of two vertices\n",
    "    def getDirEdges(self):\n",
    "        \n",
    "        ret = []\n",
    "        for v in self.vertices:\n",
    "            ret += [ [v, u] for u in v.outNeighbors ]\n",
    "        return ret\n",
    "    \n",
    "    # reverse the edge between u and v.  Multiple edges are not supported.\n",
    "    def reverseEdge(self,u,v):\n",
    "        \n",
    "        if u.hasOutNeighbor(v) and v.hasInNeighbor(u):\n",
    "            \n",
    "            if v.hasOutNeighbor(u) and u.hasInNeighbor(v): \n",
    "                return\n",
    "        \n",
    "            self.addDiEdge(v, u)\n",
    "            u.outNeighbors.remove(v)\n",
    "            v.inNeighbors.remove(u)        \n",
    "                \n",
    "    def __str__(self):\n",
    "        \n",
    "        ret = \"Graph with:\\n\"\n",
    "        ret += \"\\t Vertices:\\n\\t\"\n",
    "        for v in self.vertices:\n",
    "            ret += str(v) + \",\"\n",
    "        ret += \"\\n\"\n",
    "        ret += \"\\t Edges:\\n\\t\"\n",
    "        for a,b in self.getDirEdges():\n",
    "            ret += \"(\" + str(a) + \",\" + str(b) + \") \"\n",
    "        ret += \"\\n\"\n",
    "        return ret"
   ]
  },
  {
   "cell_type": "markdown",
   "id": "7afa81de",
   "metadata": {},
   "source": [
    "Now that we have incorporated the weights, let us devise a plan to generate the graph"
   ]
  },
  {
   "cell_type": "code",
   "execution_count": 8,
   "id": "d3a8a344",
   "metadata": {},
   "outputs": [
    {
     "data": {
      "image/svg+xml": "<?xml version=\"1.0\" encoding=\"UTF-8\" standalone=\"no\"?>\n<!DOCTYPE svg PUBLIC \"-//W3C//DTD SVG 1.1//EN\"\n \"http://www.w3.org/Graphics/SVG/1.1/DTD/svg11.dtd\">\n<!-- Generated by graphviz version 5.0.0 (20220707.1540)\n -->\n<!-- Pages: 1 -->\n<svg width=\"117pt\" height=\"404pt\"\n viewBox=\"0.00 0.00 117.00 404.00\" xmlns=\"http://www.w3.org/2000/svg\" xmlns:xlink=\"http://www.w3.org/1999/xlink\">\n<g id=\"graph0\" class=\"graph\" transform=\"scale(1 1) rotate(0) translate(4 400)\">\n<polygon fill=\"white\" stroke=\"transparent\" points=\"-4,4 -4,-400 113,-400 113,4 -4,4\"/>\n<!-- S -->\n<g id=\"node1\" class=\"node\">\n<title>S</title>\n<ellipse fill=\"none\" stroke=\"black\" cx=\"54\" cy=\"-378\" rx=\"27\" ry=\"18\"/>\n<text text-anchor=\"middle\" x=\"54\" y=\"-374.3\" font-family=\"Times New Roman,serif\" font-size=\"14.00\">S</text>\n</g>\n<!-- E -->\n<g id=\"node2\" class=\"node\">\n<title>E</title>\n<ellipse fill=\"none\" stroke=\"black\" cx=\"27\" cy=\"-306\" rx=\"27\" ry=\"18\"/>\n<text text-anchor=\"middle\" x=\"27\" y=\"-302.3\" font-family=\"Times New Roman,serif\" font-size=\"14.00\">E</text>\n</g>\n<!-- S&#45;&gt;E -->\n<g id=\"edge1\" class=\"edge\">\n<title>S&#45;&gt;E</title>\n<path fill=\"none\" stroke=\"black\" d=\"M47.6,-360.41C44.49,-352.34 40.67,-342.43 37.17,-333.35\"/>\n<polygon fill=\"black\" stroke=\"black\" points=\"40.4,-332.03 33.54,-323.96 33.87,-334.55 40.4,-332.03\"/>\n</g>\n<!-- A -->\n<g id=\"node3\" class=\"node\">\n<title>A</title>\n<ellipse fill=\"none\" stroke=\"black\" cx=\"82\" cy=\"-162\" rx=\"27\" ry=\"18\"/>\n<text text-anchor=\"middle\" x=\"82\" y=\"-158.3\" font-family=\"Times New Roman,serif\" font-size=\"14.00\">A</text>\n</g>\n<!-- S&#45;&gt;A -->\n<g id=\"edge2\" class=\"edge\">\n<title>S&#45;&gt;A</title>\n<path fill=\"none\" stroke=\"black\" d=\"M57.14,-359.85C58.98,-349.49 61.27,-336.01 63,-324 69.73,-277.2 75.81,-222.48 79.19,-190.4\"/>\n<polygon fill=\"black\" stroke=\"black\" points=\"82.68,-190.74 80.24,-180.43 75.72,-190.01 82.68,-190.74\"/>\n</g>\n<!-- D -->\n<g id=\"node4\" class=\"node\">\n<title>D</title>\n<ellipse fill=\"none\" stroke=\"black\" cx=\"27\" cy=\"-234\" rx=\"27\" ry=\"18\"/>\n<text text-anchor=\"middle\" x=\"27\" y=\"-230.3\" font-family=\"Times New Roman,serif\" font-size=\"14.00\">D</text>\n</g>\n<!-- E&#45;&gt;D -->\n<g id=\"edge3\" class=\"edge\">\n<title>E&#45;&gt;D</title>\n<path fill=\"none\" stroke=\"black\" d=\"M27,-287.7C27,-279.98 27,-270.71 27,-262.11\"/>\n<polygon fill=\"black\" stroke=\"black\" points=\"30.5,-262.1 27,-252.1 23.5,-262.1 30.5,-262.1\"/>\n</g>\n<!-- C -->\n<g id=\"node5\" class=\"node\">\n<title>C</title>\n<ellipse fill=\"none\" stroke=\"black\" cx=\"27\" cy=\"-90\" rx=\"27\" ry=\"18\"/>\n<text text-anchor=\"middle\" x=\"27\" y=\"-86.3\" font-family=\"Times New Roman,serif\" font-size=\"14.00\">C</text>\n</g>\n<!-- A&#45;&gt;C -->\n<g id=\"edge5\" class=\"edge\">\n<title>A&#45;&gt;C</title>\n<path fill=\"none\" stroke=\"black\" d=\"M70.07,-145.81C62.79,-136.55 53.34,-124.52 45.15,-114.09\"/>\n<polygon fill=\"black\" stroke=\"black\" points=\"47.84,-111.86 38.91,-106.16 42.34,-116.18 47.84,-111.86\"/>\n</g>\n<!-- D&#45;&gt;A -->\n<g id=\"edge4\" class=\"edge\">\n<title>D&#45;&gt;A</title>\n<path fill=\"none\" stroke=\"black\" d=\"M38.93,-217.81C46.21,-208.55 55.66,-196.52 63.85,-186.09\"/>\n<polygon fill=\"black\" stroke=\"black\" points=\"66.66,-188.18 70.09,-178.16 61.16,-183.86 66.66,-188.18\"/>\n</g>\n<!-- D&#45;&gt;C -->\n<g id=\"edge7\" class=\"edge\">\n<title>D&#45;&gt;C</title>\n<path fill=\"none\" stroke=\"black\" d=\"M27,-215.87C27,-191.67 27,-147.21 27,-118.39\"/>\n<polygon fill=\"black\" stroke=\"black\" points=\"30.5,-118.19 27,-108.19 23.5,-118.19 30.5,-118.19\"/>\n</g>\n<!-- B -->\n<g id=\"node6\" class=\"node\">\n<title>B</title>\n<ellipse fill=\"none\" stroke=\"black\" cx=\"54\" cy=\"-18\" rx=\"27\" ry=\"18\"/>\n<text text-anchor=\"middle\" x=\"54\" y=\"-14.3\" font-family=\"Times New Roman,serif\" font-size=\"14.00\">B</text>\n</g>\n<!-- C&#45;&gt;B -->\n<g id=\"edge8\" class=\"edge\">\n<title>C&#45;&gt;B</title>\n<path fill=\"none\" stroke=\"black\" d=\"M33.4,-72.41C36.51,-64.34 40.33,-54.43 43.83,-45.35\"/>\n<polygon fill=\"black\" stroke=\"black\" points=\"47.13,-46.55 47.46,-35.96 40.6,-44.03 47.13,-46.55\"/>\n</g>\n<!-- B&#45;&gt;A -->\n<g id=\"edge6\" class=\"edge\">\n<title>B&#45;&gt;A</title>\n<path fill=\"none\" stroke=\"black\" d=\"M57.39,-36.19C62.19,-60.53 71.01,-105.28 76.69,-134.06\"/>\n<polygon fill=\"black\" stroke=\"black\" points=\"73.25,-134.74 78.62,-143.87 80.12,-133.38 73.25,-134.74\"/>\n</g>\n</g>\n</svg>\n",
      "text/plain": "<graphviz.graphs.Digraph at 0x133b0b4cac0>"
     },
     "execution_count": 8,
     "metadata": {},
     "output_type": "execute_result"
    }
   ],
   "source": [
    "dot = Digraph()\n",
    "\n",
    "dot.edge('S', 'E')\n",
    "dot.edge('S', 'A')\n",
    "dot.edge('E', 'D')\n",
    "dot.edge('D', 'A')\n",
    "dot.edge('A', 'C')\n",
    "dot.edge('B', 'A')\n",
    "dot.edge('D', 'C')\n",
    "dot.edge('C', 'B')\n",
    "\n",
    "#dot.view()\n",
    "dot"
   ]
  },
  {
   "cell_type": "code",
   "execution_count": 9,
   "id": "90237e9f",
   "metadata": {},
   "outputs": [],
   "source": [
    "G = Graph()\n",
    "#for i in ['0', '1', '2', '3', '4', '5']:\n",
    "for i in ['S', 'E', 'A', 'D', 'B', 'C']:\n",
    "    G.addVertex( Node(i) )"
   ]
  },
  {
   "cell_type": "code",
   "execution_count": 10,
   "id": "e2160adc",
   "metadata": {},
   "outputs": [],
   "source": [
    "V = G.vertices\n",
    "\n",
    "#dot.edge('S', 'E')\n",
    "G.addDiEdge( V[0], V[1], 8)\n",
    "\n",
    "#dot.edge('S', 'A')\n",
    "G.addDiEdge( V[0], V[2] , 10)\n",
    "\n",
    "#dot.edge('E', 'D')\n",
    "G.addDiEdge( V[1], V[3], 1)\n",
    "\n",
    "#dot.edge('D', 'A')\n",
    "G.addDiEdge( V[3], V[2], -4)\n",
    "\n",
    "#dot.edge('A', 'C')\n",
    "G.addDiEdge( V[2], V[5], 2)\n",
    "\n",
    "#dot.edge('B', 'A')\n",
    "G.addDiEdge( V[4], V[2], 1 )\n",
    "\n",
    "#dot.edge('D', 'C')\n",
    "G.addDiEdge( V[3], V[5], -1)\n",
    "\n",
    "#dot.edge('C', 'B')\n",
    "G.addDiEdge( V[5], V[4], -2 )"
   ]
  },
  {
   "cell_type": "markdown",
   "id": "8fcbaefb",
   "metadata": {},
   "source": [
    "Second Example"
   ]
  },
  {
   "cell_type": "code",
   "execution_count": 11,
   "id": "dd4d197d",
   "metadata": {},
   "outputs": [],
   "source": [
    "G = Graph()\n",
    "#for i in ['0', '1', '2', '3', '4', '5']:\n",
    "for i in ['S', 'A', 'B']:\n",
    "    G.addVertex( Node(i) )\n",
    "    \n",
    "V = G.vertices\n",
    "\n",
    "G.addDiEdge( V[0], V[1], 3)\n",
    "\n",
    "G.addDiEdge( V[0], V[2] , 5)\n",
    "# G.addDiEdge( V[1], V[2], 1)\n",
    "G.addDiEdge( V[1], V[2], -1)"
   ]
  },
  {
   "cell_type": "code",
   "execution_count": 12,
   "id": "fb865755",
   "metadata": {},
   "outputs": [
    {
     "name": "stdout",
     "output_type": "stream",
     "text": [
      "Graph with:\n",
      "\t Vertices:\n",
      "\tS,A,B,\n",
      "\t Edges:\n",
      "\t(S,(<__main__.Node object at 0x00000133B0B599A0>, 3)) (S,(<__main__.Node object at 0x00000133B0B59160>, 5)) (A,(<__main__.Node object at 0x00000133B0B59160>, -1)) \n",
      "\n"
     ]
    }
   ],
   "source": [
    "print(G)"
   ]
  },
  {
   "cell_type": "markdown",
   "id": "0ed62d3b",
   "metadata": {},
   "source": [
    "***"
   ]
  },
  {
   "cell_type": "markdown",
   "id": "94392ed1",
   "metadata": {},
   "source": [
    "### Section 2: Dijkstra Algorithm"
   ]
  },
  {
   "cell_type": "code",
   "execution_count": 13,
   "id": "b4d19469",
   "metadata": {},
   "outputs": [
    {
     "data": {
      "text/plain": "3"
     },
     "execution_count": 13,
     "metadata": {},
     "output_type": "execute_result"
    }
   ],
   "source": [
    "len(G.vertices)"
   ]
  },
  {
   "cell_type": "code",
   "execution_count": 14,
   "id": "4df8a7a1",
   "metadata": {},
   "outputs": [],
   "source": [
    "def dijkstra(w, G):\n",
    "    \n",
    "    for v in G.vertices:\n",
    "        v.estD = math.inf\n",
    "        \n",
    "    w.estD = 0\n",
    "    unsureVertices = G.vertices[:]\n",
    "    \n",
    "    sureVertices = []\n",
    "    \n",
    "    while len(unsureVertices) > 0:\n",
    "    \n",
    "        # find the u with the minimum estD in the dumbest way possible\n",
    "        u = None\n",
    "        minD = math.inf\n",
    "        for x in unsureVertices:\n",
    "            if x.estD < minD:\n",
    "                minD = x.estD\n",
    "                u = x\n",
    "        \n",
    "        if u == None:\n",
    "            # then there is nothing more that I can reach\n",
    "            return\n",
    "        \n",
    "        # update u's neighbors\n",
    "        for v, wt in u.getOutNeighborsWithWeights():\n",
    "            \n",
    "            if v in sureVertices:\n",
    "                continue\n",
    "            \n",
    "            if u.estD + wt < v.estD:\n",
    "                v.estD = u.estD + wt\n",
    "        \n",
    "        unsureVertices.remove(u)\n",
    "        sureVertices.append(u)\n",
    "    \n",
    "    # that's it!  Now each vertex holds estD which is its distance from w"
   ]
  },
  {
   "cell_type": "code",
   "execution_count": 15,
   "id": "5bffc218",
   "metadata": {},
   "outputs": [
    {
     "name": "stdout",
     "output_type": "stream",
     "text": [
      "S 0\n",
      "A 3\n",
      "B 2\n"
     ]
    }
   ],
   "source": [
    "w = G.vertices[0]\n",
    "dijkstra(w, G)\n",
    "\n",
    "for v in G.vertices:\n",
    "    print(v.value, v.estD)"
   ]
  },
  {
   "cell_type": "markdown",
   "id": "0022f18f",
   "metadata": {},
   "source": [
    "***"
   ]
  },
  {
   "cell_type": "markdown",
   "id": "authorized-brook",
   "metadata": {},
   "source": [
    "### <font color='red'> Activity 1: Code Reflections. </font>"
   ]
  },
  {
   "cell_type": "code",
   "execution_count": 16,
   "id": "creative-reply",
   "metadata": {},
   "outputs": [
    {
     "name": "stdout",
     "output_type": "stream",
     "text": [
      "[['S', 'A', 'B'], ['S', 'B']]\n",
      "S 0\n",
      "A 3\n",
      "B 2\n"
     ]
    }
   ],
   "source": [
    "### TODO ###\n",
    "### Good Luck ###\n",
    "def dijkstra(w, G):\n",
    "    for v in G.vertices:\n",
    "        v.estD = math.inf\n",
    "\n",
    "    w.estD = 0\n",
    "    unsureVertices = G.vertices[:]\n",
    "\n",
    "    paths = []\n",
    "    for i in G.vertices:\n",
    "        if i.value != w.value:\n",
    "            paths.append([w.value])\n",
    "\n",
    "    sureVertices = []\n",
    "\n",
    "    while len(unsureVertices) > 0:\n",
    "\n",
    "        # find the u with the minimum estD in the dumbest way possible\n",
    "        u = None\n",
    "        minD = math.inf\n",
    "        for x in unsureVertices:\n",
    "            if x.estD < minD:\n",
    "                minD = x.estD\n",
    "                u = x\n",
    "\n",
    "        if u == None:\n",
    "            # then there is nothing more that I can reach\n",
    "            return\n",
    "\n",
    "        # update u's neighbors\n",
    "        for v, wt in u.getOutNeighborsWithWeights():\n",
    "\n",
    "            if v in sureVertices:\n",
    "                continue\n",
    "\n",
    "            if u.estD + wt < v.estD:\n",
    "                v.estD = u.estD + wt\n",
    "                for p in paths:\n",
    "                    if p[-1] == u.value:\n",
    "                        p.append(v.value)\n",
    "                        break\n",
    "\n",
    "        unsureVertices.remove(u)\n",
    "        sureVertices.append(u)\n",
    "    print(paths)\n",
    "\n",
    "w = G.vertices[0]\n",
    "dijkstra(w, G)\n",
    "\n",
    "for v in G.vertices:\n",
    "    print(v.value, v.estD)\n",
    "\n"
   ]
  },
  {
   "cell_type": "markdown",
   "id": "f9b31a04",
   "metadata": {},
   "source": [
    "### <font color='red'> Activity 2: Modify above code to do Bellman-Ford. Make sure you test for negative cycles and compare its performance with Dijkstra. </font>"
   ]
  },
  {
   "cell_type": "code",
   "execution_count": 17,
   "id": "8d176b03",
   "metadata": {},
   "outputs": [
    {
     "name": "stdout",
     "output_type": "stream",
     "text": [
      "False\n"
     ]
    }
   ],
   "source": [
    "#### TODO ####\n",
    "### Good Luck ###\n",
    "G = Graph()\n",
    "for i in ['S', 'A', 'B']:\n",
    "    G.addVertex( Node(i) )\n",
    "V = G.vertices\n",
    "G.addDiEdge( V[0], V[1], -3)\n",
    "G.addDiEdge( V[0], V[2] , 5)\n",
    "G.addDiEdge(V[2], V[0], 1)\n",
    "G.addDiEdge( V[1], V[2], -4)\n",
    "\n",
    "def Bellman_Ford(w, G):\n",
    "    v_ls = G.vertices\n",
    "    n = len(G.vertices)\n",
    "    d = [[np.inf for _ in range(n)] for _ in range(n+1)]\n",
    "    for sd in d:\n",
    "        sd[v_ls.index(w)] = 0\n",
    "\n",
    "    for i in range(1, n+1):\n",
    "        for u in G.vertices:\n",
    "            for v, wt in u.getOutNeighborsWithWeights():\n",
    "                d[i][v_ls.index(v)] = min(d[i-1][v_ls.index(v)], d[i-1][v_ls.index(u)] + wt)\n",
    "\n",
    "    if d[-1] == d[-2]:\n",
    "        return d\n",
    "    else:\n",
    "        return False\n",
    "\n",
    "\n",
    "print(Bellman_Ford(G.vertices[0], G))\n"
   ]
  },
  {
   "cell_type": "markdown",
   "id": "cleared-claim",
   "metadata": {},
   "source": [
    "### <font color='red'> Activity 3: Have a look at the following Python's implementation of heap (priority Queues): HeapDict, and try to convert our Dijkstra's implementation to use this heap data structure instead. </font>"
   ]
  },
  {
   "cell_type": "code",
   "execution_count": 23,
   "id": "personal-bernard",
   "metadata": {},
   "outputs": [
    {
     "name": "stdout",
     "output_type": "stream",
     "text": [
      "S 0\n",
      "A 3\n",
      "B 2\n"
     ]
    }
   ],
   "source": [
    "### TODO ###\n",
    "### Good Luck ###\n",
    "# del G\n",
    "G = Graph()\n",
    "for i in ['S', 'A', 'B']:\n",
    "    G.addVertex(Node(i))\n",
    "\n",
    "V = G.vertices\n",
    "\n",
    "G.addDiEdge(V[0], V[1], 3)\n",
    "G.addDiEdge(V[0], V[2], 5)\n",
    "G.addDiEdge(V[1], V[2], -1)\n",
    "from queue import PriorityQueue\n",
    "\n",
    "\n",
    "def dijkstra(w, G):\n",
    "    for v in G.vertices:\n",
    "        v.estD = math.inf\n",
    "\n",
    "    w.estD = 0\n",
    "    unsureVertices = G.vertices[:]\n",
    "\n",
    "    sureVertices = []\n",
    "\n",
    "    while len(unsureVertices) > 0:\n",
    "\n",
    "        # find the u with the minimum estD in the dumbest way possible\n",
    "        u = None\n",
    "        # minD = math.inf\n",
    "        q = PriorityQueue()\n",
    "        for i, x in enumerate(unsureVertices):\n",
    "            q.put((x.estD, i))\n",
    "\n",
    "        u = unsureVertices[q.get()[1]]\n",
    "\n",
    "        if u == None:\n",
    "            # then there is nothing more that I can reach\n",
    "            return\n",
    "\n",
    "        # update u's neighbors\n",
    "        for v, wt in u.getOutNeighborsWithWeights():\n",
    "\n",
    "            if v in sureVertices:\n",
    "                continue\n",
    "\n",
    "            if u.estD + wt < v.estD:\n",
    "                v.estD = u.estD + wt\n",
    "\n",
    "        unsureVertices.remove(u)\n",
    "        sureVertices.append(u)\n",
    "\n",
    "\n",
    "w = G.vertices[0]\n",
    "dijkstra(w, G)\n",
    "for v in G.vertices:\n",
    "    print(v.value, v.estD)\n",
    "\n"
   ]
  },
  {
   "cell_type": "markdown",
   "id": "9c64f77d",
   "metadata": {},
   "source": [
    "***"
   ]
  },
  {
   "cell_type": "markdown",
   "id": "a85ea894",
   "metadata": {},
   "source": [
    "### Section 4: Dynammc Programming"
   ]
  },
  {
   "cell_type": "markdown",
   "id": "7f7a5d29",
   "metadata": {},
   "source": [
    "We discussed Fibonacci numbers sequence as a good example of Dynamic Programming. Let us have a look at its computation."
   ]
  },
  {
   "cell_type": "code",
   "execution_count": 24,
   "id": "91575189",
   "metadata": {},
   "outputs": [],
   "source": [
    "def Fibonacci(n):\n",
    "    if n == 0 or n == 1:\n",
    "        return 1\n",
    "    return Fibonacci(n-1) + Fibonacci(n-2)\n",
    "                "
   ]
  },
  {
   "cell_type": "code",
   "execution_count": 25,
   "id": "61aff298",
   "metadata": {},
   "outputs": [],
   "source": [
    "def fasterFibonacci(n):\n",
    "    \n",
    "    F = [1 for i in range(n+1)]\n",
    "\n",
    "    for i in range(2,n+1):\n",
    "        F[i] = F[i-1] + F[i-2]\n",
    "        \n",
    "    return F[n]"
   ]
  },
  {
   "cell_type": "code",
   "execution_count": 26,
   "id": "41e606a0",
   "metadata": {},
   "outputs": [],
   "source": [
    "def Fibonacci_topdown(n,F):\n",
    "    \n",
    "    if F[n] != None:\n",
    "        return F[n]\n",
    "    \n",
    "    F[n] = Fibonacci_topdown(n-1, F) + Fibonacci_topdown(n-2, F)\n",
    "    return F[n]"
   ]
  },
  {
   "cell_type": "markdown",
   "id": "8e71bd90",
   "metadata": {},
   "source": [
    "Have a look at above different ways to compute Fibonacci numbers. Report on their running time. Make sure you know the difference between them."
   ]
  },
  {
   "cell_type": "markdown",
   "id": "01e640cf",
   "metadata": {},
   "source": [
    "***"
   ]
  },
  {
   "cell_type": "markdown",
   "id": "caroline-debut",
   "metadata": {},
   "source": [
    "### <font color='red'> Activity 4: Write a brief report comparing 'Dynamic Programming' with 'Divide-and-Conquer' strategy? (If you are not familiar with Divide-and-Conquer strategy - revisit Quick Sort or Binary Search algorithms. You should address why we can not use DP for Quick Sort or Binary Sort). </font>"
   ]
  },
  {
   "cell_type": "code",
   "execution_count": 27,
   "id": "wicked-marketing",
   "metadata": {},
   "outputs": [
    {
     "name": "stdout",
     "output_type": "stream",
     "text": [
      "排序后的数组:\n",
      "1\n",
      "5\n",
      "7\n",
      "8\n",
      "9\n",
      "10\n"
     ]
    }
   ],
   "source": [
    "### TODO ###\n",
    "### Good Luck ###\n",
    "def partition(arr,low,high):\n",
    "    i = ( low-1 )         # 最小元素索引\n",
    "    pivot = arr[high]\n",
    "\n",
    "    for j in range(low , high):\n",
    "\n",
    "        # 当前元素小于或等于 pivot\n",
    "        if   arr[j] <= pivot:\n",
    "\n",
    "            i = i+1\n",
    "            arr[i],arr[j] = arr[j],arr[i]\n",
    "\n",
    "    arr[i+1],arr[high] = arr[high],arr[i+1]\n",
    "    return ( i+1 )\n",
    "\n",
    "\n",
    "# arr[] --> 排序数组\n",
    "# low  --> 起始索引\n",
    "# high  --> 结束索引\n",
    "\n",
    "# 快速排序函数\n",
    "def quickSort(arr,low,high):\n",
    "    if low < high:\n",
    "\n",
    "        pi = partition(arr,low,high)\n",
    "\n",
    "        quickSort(arr, low, pi-1)\n",
    "        quickSort(arr, pi+1, high)\n",
    "\n",
    "arr = [10, 7, 8, 9, 1, 5]\n",
    "n = len(arr)\n",
    "quickSort(arr,0,n-1)\n",
    "print (\"排序后的数组:\")\n",
    "for i in range(n):\n",
    "    print(\"%d\" %arr[i])\n",
    "\n"
   ]
  },
  {
   "cell_type": "markdown",
   "id": "pleased-retail",
   "metadata": {},
   "source": [
    "### <font color='red'> Activity 5: You are running up a staircase with a total of n steps. You can hop either 1 step, 2 steps or 3 steps at at time. Write a DP program to determine how many possible ways you can run up the stairs? (Hint: Start with a recursive solution, and then later move to top-down approach of DP). </font>"
   ]
  },
  {
   "cell_type": "code",
   "execution_count": 28,
   "id": "dried-float",
   "metadata": {},
   "outputs": [
    {
     "name": "stdout",
     "output_type": "stream",
     "text": [
      "230\n"
     ]
    }
   ],
   "source": [
    "### TODO ###\n",
    "### Good Luck ###\n",
    "def cul_staircase(n):\n",
    "    if n <= 3:\n",
    "        return n\n",
    "\n",
    "    else:\n",
    "        return cul_staircase(n-1) + cul_staircase(n-2) + cul_staircase(n-3)\n",
    "\n",
    "print(cul_staircase(10))\n",
    "\n",
    "\n",
    "\n",
    "\n",
    "\n",
    "\n",
    "\n"
   ]
  },
  {
   "cell_type": "markdown",
   "id": "ebd772d0",
   "metadata": {},
   "source": [
    "### <font color='red'> Activity 6: Implement Floyd-Warshal algorithm using above data structure (that is Node and Graph). Make sure to test all the use-cases. </font>"
   ]
  },
  {
   "cell_type": "code",
   "execution_count": 41,
   "id": "edf0acbd",
   "metadata": {},
   "outputs": [
    {
     "name": "stdout",
     "output_type": "stream",
     "text": [
      "[[0, 2, 4, 2], [1, 0, 2, 0], [inf, inf, 0, -2], [inf, inf, inf, 0]]\n"
     ]
    }
   ],
   "source": [
    "#### TODO ####\n",
    "### Good Luck ###\n",
    "del G\n",
    "G = Graph()\n",
    "for i in ['S', 'U', 'V', 'T']:\n",
    "    G.addVertex(Node(i))\n",
    "\n",
    "V = G.vertices\n",
    "\n",
    "G.addDiEdge(V[0], V[1], 2)\n",
    "G.addDiEdge(V[1], V[0], 1)\n",
    "G.addDiEdge(V[0], V[2], 5)\n",
    "G.addDiEdge(V[1], V[2], 2)\n",
    "G.addDiEdge(V[2], V[3], -2)\n",
    "# print(G.vertices.index(V[1]))\n",
    "\n",
    "\n",
    "def Floyd_warshall(G):\n",
    "    n = len(G.vertices)\n",
    "    D = [[np.inf for _ in range(n)] for _ in range(n)]\n",
    "    for i in range(n):\n",
    "        D[i][i] = 0\n",
    "\n",
    "    for u in G.vertices:\n",
    "        for v, wt in u.getOutNeighborsWithWeights():\n",
    "            D[G.vertices.index(u)][G.vertices.index(v)] = wt\n",
    "    # print(D)\n",
    "\n",
    "    for k in range(n):\n",
    "        for row in range(n):\n",
    "            for col in range(n):\n",
    "                D[row][col] = min(D[row][col], D[row][k]+D[k][col])\n",
    "\n",
    "    print(D)\n",
    "\n",
    "Floyd_warshall(G)\n",
    "\n",
    "\n",
    "\n",
    "\n"
   ]
  },
  {
   "cell_type": "markdown",
   "id": "e143dc12",
   "metadata": {},
   "source": [
    "***"
   ]
  },
  {
   "cell_type": "markdown",
   "id": "79cfe7ab",
   "metadata": {},
   "source": [
    "***"
   ]
  }
 ],
 "metadata": {
  "kernelspec": {
   "name": "pytorch_env",
   "language": "python",
   "display_name": "pytorch_env"
  },
  "language_info": {
   "codemirror_mode": {
    "name": "ipython",
    "version": 3
   },
   "file_extension": ".py",
   "mimetype": "text/x-python",
   "name": "python",
   "nbconvert_exporter": "python",
   "pygments_lexer": "ipython3",
   "version": "3.7.9"
  }
 },
 "nbformat": 4,
 "nbformat_minor": 5
}