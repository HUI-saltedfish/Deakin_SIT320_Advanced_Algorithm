{
 "cells": [
  {
   "cell_type": "markdown",
   "id": "imposed-playlist",
   "metadata": {},
   "source": [
    "# Lab 6a: Linear Programming"
   ]
  },
  {
   "cell_type": "markdown",
   "id": "d97cce87",
   "metadata": {},
   "source": [
    "Lab associated with Module 6a: Linear Programming"
   ]
  },
  {
   "cell_type": "markdown",
   "id": "5c7f2e9d",
   "metadata": {},
   "source": [
    "***"
   ]
  },
  {
   "cell_type": "code",
   "execution_count": 1,
   "id": "5b495ad0",
   "metadata": {},
   "outputs": [
    {
     "name": "stderr",
     "output_type": "stream",
     "text": [
      "C:\\Users\\25848\\AppData\\Local\\Temp\\ipykernel_2472\\1522478529.py:2: DeprecationWarning: Importing display from IPython.core.display is deprecated since IPython 7.14, please import from IPython display\n",
      "  from IPython.core.display import display, HTML\n"
     ]
    },
    {
     "data": {
      "text/plain": "<IPython.core.display.HTML object>",
      "text/html": "<style>.container { width:95% !important; }</style>"
     },
     "metadata": {},
     "output_type": "display_data"
    }
   ],
   "source": [
    "# The following lines are used to increase the width of cells to utilize more space on the screen \n",
    "from IPython.core.display import display, HTML\n",
    "display(HTML(\"<style>.container { width:95% !important; }</style>\"))"
   ]
  },
  {
   "cell_type": "markdown",
   "id": "3a2b855c",
   "metadata": {},
   "source": [
    "***"
   ]
  },
  {
   "cell_type": "markdown",
   "id": "9d0921a0",
   "metadata": {},
   "source": [
    "### Section 0: Imports"
   ]
  },
  {
   "cell_type": "code",
   "execution_count": 2,
   "id": "477622d5",
   "metadata": {},
   "outputs": [],
   "source": [
    "import numpy as np"
   ]
  },
  {
   "cell_type": "code",
   "execution_count": 3,
   "id": "2eb12be4",
   "metadata": {},
   "outputs": [],
   "source": [
    "import matplotlib.pyplot as plt"
   ]
  },
  {
   "cell_type": "markdown",
   "id": "7f9321f8",
   "metadata": {},
   "source": [
    "***"
   ]
  },
  {
   "cell_type": "markdown",
   "id": "1309ad59",
   "metadata": {},
   "source": [
    "### Section 1: Solving LP problem graphically"
   ]
  },
  {
   "cell_type": "markdown",
   "id": "4b8e52ca",
   "metadata": {},
   "source": [
    "Let us see if we can solve the LP problem that we discussed in the lecture, graphically"
   ]
  },
  {
   "cell_type": "code",
   "execution_count": 15,
   "id": "78b1aebe",
   "metadata": {},
   "outputs": [
    {
     "data": {
      "text/plain": "array([   0.        ,   20.40816327,   40.81632653,   61.2244898 ,\n         81.63265306,  102.04081633,  122.44897959,  142.85714286,\n        163.26530612,  183.67346939,  204.08163265,  224.48979592,\n        244.89795918,  265.30612245,  285.71428571,  306.12244898,\n        326.53061224,  346.93877551,  367.34693878,  387.75510204,\n        408.16326531,  428.57142857,  448.97959184,  469.3877551 ,\n        489.79591837,  510.20408163,  530.6122449 ,  551.02040816,\n        571.42857143,  591.83673469,  612.24489796,  632.65306122,\n        653.06122449,  673.46938776,  693.87755102,  714.28571429,\n        734.69387755,  755.10204082,  775.51020408,  795.91836735,\n        816.32653061,  836.73469388,  857.14285714,  877.55102041,\n        897.95918367,  918.36734694,  938.7755102 ,  959.18367347,\n        979.59183673, 1000.        ])"
     },
     "execution_count": 15,
     "metadata": {},
     "output_type": "execute_result"
    }
   ],
   "source": [
    "X1 = np.linspace(0, 1000)\n",
    "X1"
   ]
  },
  {
   "cell_type": "code",
   "execution_count": 12,
   "id": "2a6897da",
   "metadata": {},
   "outputs": [],
   "source": [
    "# X1 + X2 >= 200\n",
    "# X2 = 200 - X1\n",
    "X2 = 200 - X1"
   ]
  },
  {
   "cell_type": "code",
   "execution_count": 21,
   "id": "51286fda",
   "metadata": {},
   "outputs": [
    {
     "data": {
      "text/plain": "array([0, 1, 2, 3, 4, 5, 6, 7, 8, 9], dtype=int64)"
     },
     "execution_count": 21,
     "metadata": {},
     "output_type": "execute_result"
    }
   ],
   "source": [
    "X2x = X1[np.where(X2 > 0)[0]]\n",
    "X2y = X2[np.where(X2 > 0)[0]]\n",
    "# np.where(X2 > 0)"
   ]
  },
  {
   "cell_type": "code",
   "execution_count": 7,
   "id": "c846fa6c",
   "metadata": {},
   "outputs": [],
   "source": [
    "# 9X1 + 6X2 <= 1556\n",
    "# X2 = (1556 - 9X1)/6\n",
    "\n",
    "X3 = (1556 - 9*X1)/6\n",
    "\n",
    "X3x = X1[np.where(X3 > 0)[0]]\n",
    "X3y = X3[np.where(X3 > 0)[0]]"
   ]
  },
  {
   "cell_type": "code",
   "execution_count": 8,
   "id": "f17f8556",
   "metadata": {},
   "outputs": [],
   "source": [
    "# 12X1 + 16X2 <= 2880\n",
    "# X2 = (2880 - 12X1)/16\n",
    "\n",
    "X4 = (2880 - 12*X1)/16\n",
    "\n",
    "X4x = X1[np.where(X4 > 0)[0]]\n",
    "X4y = X4[np.where(X4 > 0)[0]]"
   ]
  },
  {
   "cell_type": "markdown",
   "id": "0b65687f",
   "metadata": {},
   "source": [
    "Let us plot these constraints"
   ]
  },
  {
   "cell_type": "code",
   "execution_count": 22,
   "id": "55b3a75e",
   "metadata": {},
   "outputs": [
    {
     "data": {
      "text/plain": "Text(0, 0.5, 'X2')"
     },
     "execution_count": 22,
     "metadata": {},
     "output_type": "execute_result"
    },
    {
     "data": {
      "text/plain": "<Figure size 432x288 with 1 Axes>",
      "image/png": "[encoded data removed]"
     },
     "metadata": {
      "needs_background": "light"
     },
     "output_type": "display_data"
    }
   ],
   "source": [
    "plt.plot(X2x, X2y, label=r'$2y\\leq25-x$')\n",
    "plt.plot(X3x, X3y, label=r'$2y\\leq25-x$')\n",
    "plt.plot(X4x, X4y, label=r'$2y\\leq25-x$')\n",
    "\n",
    "plt.legend(['X1 + X2 >= 200', '9X1 + 6X2 <= 1556', '12X1 + 16X2 <= 2880'])\n",
    "plt.xlabel('X1')\n",
    "plt.ylabel('X2')"
   ]
  },
  {
   "cell_type": "markdown",
   "id": "4fd39ad9",
   "metadata": {},
   "source": [
    "Let us see if we can plot the feasible region"
   ]
  },
  {
   "cell_type": "code",
   "execution_count": 38,
   "id": "163298de",
   "metadata": {},
   "outputs": [
    {
     "data": {
      "text/plain": "Text(0, 0.5, 'X2')"
     },
     "execution_count": 38,
     "metadata": {},
     "output_type": "execute_result"
    },
    {
     "data": {
      "text/plain": "<Figure size 432x288 with 1 Axes>",
      "image/png": "[encoded data removed]"
     },
     "metadata": {
      "needs_background": "light"
     },
     "output_type": "display_data"
    }
   ],
   "source": [
    "plt.plot(X2x, X2y, label=r'$2y\\leq25-x$')\n",
    "plt.plot(X3x, X3y, label=r'$2y\\leq25-x$')\n",
    "plt.plot(X4x, X4y, label=r'$2y\\leq25-x$')\n",
    "\n",
    "# Fill feasible region\n",
    "# y5 = np.minimum(X2y[0:9], X3y)\n",
    "y6 = np.minimum(X3y, X4y[0:9])\n",
    "plt.fill_between(X4x[0:9], X2y[0:9], y6, color='grey', alpha=0.5)\n",
    "\n",
    "plt.legend(['X1 + X2 >= 200', '9X1 + 6X2 <= 1556', '12X1 + 16X2 <= 2880'])\n",
    "plt.xlabel('X1')\n",
    "plt.ylabel('X2')"
   ]
  },
  {
   "cell_type": "markdown",
   "id": "ce354683",
   "metadata": {},
   "source": [
    "Okay, now we have the constraints, let us see if we can plot the various values of objective function"
   ]
  },
  {
   "cell_type": "code",
   "execution_count": 93,
   "id": "dc2adb9e",
   "metadata": {},
   "outputs": [
    {
     "data": {
      "text/plain": [
       "Text(0, 0.5, 'X2')"
      ]
     },
     "execution_count": 93,
     "metadata": {},
     "output_type": "execute_result"
    },
    {
     "data": {
      "image/png": "[encoded data removed]",
      "text/plain": [
       "<Figure size 432x288 with 1 Axes>"
      ]
     },
     "metadata": {
      "needs_background": "light"
     },
     "output_type": "display_data"
    }
   ],
   "source": [
    "# 350X1 + 300X2\n",
    "# X2 = (N - 350X1)/300\n",
    "N1 = 12000\n",
    "N2 = 35000\n",
    "N3 = 50000\n",
    "N4 = 70000\n",
    "\n",
    "X5_1 = (N1 - 350*X1)/300\n",
    "X5_2 = (N2 - 350*X1)/300\n",
    "X5_3 = (N3 - 350*X1)/300\n",
    "X5_4 = (N4 - 350*X1)/300\n",
    "\n",
    "# Fill feasible region\n",
    "y5 = np.minimum(X2y[0:9], X3y)\n",
    "y6 = np.minimum(y5, X4y[0:9])\n",
    "plt.fill_between(X4x[0:9], y6, color='grey', alpha=0.5)\n",
    "\n",
    "# No need to plot the constraints\n",
    "\n",
    "#plt.plot(X2x, X2y, label=r'$2y\\leq25-x$')\n",
    "#plt.plot(X3x, X3y, label=r'$2y\\leq25-x$')\n",
    "#plt.plot(X4x, X4y, label=r'$2y\\leq25-x$')\n",
    "\n",
    "X5_1x = X1[np.where(X5_1 > 0)[0]]\n",
    "X5_1y = X5_1[np.where(X5_1 > 0)[0]]\n",
    "\n",
    "X5_2x = X1[np.where(X5_2 > 0)[0]]\n",
    "X5_2y = X5_2[np.where(X5_2 > 0)[0]]\n",
    "\n",
    "X5_3x = X1[np.where(X5_3 > 0)[0]]\n",
    "X5_3y = X5_3[np.where(X5_3 > 0)[0]]\n",
    "\n",
    "X5_4x = X1[np.where(X5_4 > 0)[0]]\n",
    "X5_4y = X5_4[np.where(X5_4 > 0)[0]]\n",
    "\n",
    "plt.plot(X5_1x, X5_1y, '--', label=r'$2y\\leq25-x$')\n",
    "plt.plot(X5_2x, X5_2y, '--', label=r'$2y\\leq25-x$')\n",
    "plt.plot(X5_3x, X5_3y, '--', label=r'$2y\\leq25-x$')\n",
    "plt.plot(X5_4x, X5_4y, '--', label=r'$2y\\leq25-x$')\n",
    "\n",
    "plt.legend(['12k', '35k', '50k', '70k','Feasible Region'])\n",
    "plt.xlabel('X1')\n",
    "plt.ylabel('X2')"
   ]
  },
  {
   "cell_type": "markdown",
   "id": "immediate-investment",
   "metadata": {},
   "source": [
    "### <font color='red'> Activity 1: Code Reflections. </font>"
   ]
  },
  {
   "cell_type": "code",
   "execution_count": 32,
   "id": "0899c17b",
   "metadata": {},
   "outputs": [
    {
     "name": "stdout",
     "output_type": "stream",
     "text": [
      "[200.         179.59183673 159.18367347 138.7755102  118.36734694\n",
      "  97.95918367  77.55102041  57.14285714  36.73469388  16.32653061] [259.33333333 228.72108844 198.10884354 167.49659864 136.88435374\n",
      " 106.27210884  75.65986395  45.04761905  14.43537415] [200.         179.59183673 159.18367347 138.7755102  118.36734694\n",
      "  97.95918367  75.65986395  45.04761905  14.43537415]\n"
     ]
    }
   ],
   "source": [
    "# X1 + X2 >= 200\n",
    "# X2 = 200 - X1\n",
    "X2 = 200 - X1\n",
    "X2x = X1[np.where(X2 > 0)[0]]\n",
    "X2y = X2[np.where(X2 > 0)[0]]\n",
    "print(X2y, X3y, np.minimum(X2y[0:9], X3y))\n",
    "# np.minimum(X2y[0:9], X3y)"
   ]
  },
  {
   "cell_type": "markdown",
   "id": "0274c62c",
   "metadata": {},
   "source": [
    "***"
   ]
  },
  {
   "cell_type": "markdown",
   "id": "f9b31a04",
   "metadata": {},
   "source": [
    "### <font color='red'> Activity 2: Solve the LP given to you in the activity of Section II. </font>"
   ]
  },
  {
   "cell_type": "markdown",
   "id": "4cea09ff",
   "metadata": {},
   "source": [
    "$\n",
    "\\begin{eqnarray}\n",
    "\\textrm{max } && 4X_1 +  5X_2 \\\\\n",
    "\\textrm{subject to } && 2X_1  + 3X_2 \\leq 120 \\\\\n",
    "&& 4 X_1 + 3 X_2 \\leq 140 \\\\\n",
    "&& X_1 + X_2 \\geq 80 \\\\\n",
    "&& X_1 \\geq 0 \\\\\n",
    "&& X_2 \\geq 0\n",
    "\\end{eqnarray}\n",
    "$"
   ]
  },
  {
   "cell_type": "code",
   "execution_count": 47,
   "id": "8d176b03",
   "metadata": {},
   "outputs": [
    {
     "data": {
      "text/plain": "Text(0, 0.5, 'X2')"
     },
     "execution_count": 47,
     "metadata": {},
     "output_type": "execute_result"
    },
    {
     "data": {
      "text/plain": "<Figure size 432x288 with 1 Axes>",
      "image/png": "[encoded data removed]"
     },
     "metadata": {
      "needs_background": "light"
     },
     "output_type": "display_data"
    }
   ],
   "source": [
    "#### TODO ####\n",
    "### Good Luck ###\n",
    "X1 = np.linspace(0, 100)\n",
    "# print(X1)\n",
    "\n",
    "# 2X1 + 3X2 <= 120\n",
    "# X2 <= (120 - 2X1) / 3\n",
    "X2 = (120 - 2 * X1) / 3\n",
    "X2x = X1[np.where(X2 > 0)[0]]\n",
    "X2y = X2[np.where(X2 > 0)[0]]\n",
    "\n",
    "# 4X1 + 3X2 <= 140\n",
    "# X2 <= (140 - 4X1) / 3\n",
    "X3 = (140 - 4 * X1) / 3\n",
    "X3x = X1[np.where(X3 > 0)[0]]\n",
    "X3y = X3[np.where(X3 > 0)[0]]\n",
    "\n",
    "# X1 + X2 >= 80\n",
    "# X2 >= 80 - X1\n",
    "X4 = 80 - X1\n",
    "X4x = X1[np.where(X4 > 0)[0]]\n",
    "X4y = X4[np.where(X4 > 0)[0]]\n",
    "\n",
    "plt.plot(X2x, X2y, label=r'$2y\\leq25-x$')\n",
    "plt.plot(X3x, X3y, label=r'$2y\\leq25-x$')\n",
    "plt.plot(X4x, X4y, label=r'$2y\\leq25-x$')\n",
    "\n",
    "# Fill feasible region\n",
    "# print(X2y, X3y)\n",
    "# y = np.minimum(X2y[0:9], X3y[0:9])\n",
    "# plt.fill_between(X1[0:9], X4y[0:9], y, color='grey', alpha=0.5)\n",
    "# print(X4y[0:9], y)\n",
    "plt.legend(['2X1 + 3X2 <= 120', '4X1 + 3X2 <= 140', 'X1 + X2 >= 80'])\n",
    "plt.xlabel('X1')\n",
    "plt.ylabel('X2')"
   ]
  },
  {
   "cell_type": "markdown",
   "id": "9c64f77d",
   "metadata": {},
   "source": [
    "***"
   ]
  },
  {
   "cell_type": "markdown",
   "id": "frank-geometry",
   "metadata": {},
   "source": [
    "### <font color='red'> Activity 3-8: Refer to Activities in the module. </font>"
   ]
  },
  {
   "cell_type": "code",
   "execution_count": 55,
   "id": "gothic-lying",
   "metadata": {},
   "outputs": [
    {
     "data": {
      "text/plain": "Text(0, 0.5, 'X2')"
     },
     "execution_count": 55,
     "metadata": {},
     "output_type": "execute_result"
    },
    {
     "data": {
      "text/plain": "<Figure size 432x288 with 1 Axes>",
      "image/png": "[encoded data removed]"
     },
     "metadata": {
      "needs_background": "light"
     },
     "output_type": "display_data"
    }
   ],
   "source": [
    "#### TODO ####\n",
    "### Good Luck ###\n",
    "X1 = np.linspace(0, 10)\n",
    "# print(X1)\n",
    "\n",
    "# X1 + X2 <= 2\n",
    "# X2 <= 2 - X1\n",
    "X2 = 2 - X1\n",
    "X2x = X1[np.where(X2 > 0)[0]]\n",
    "X2y = X2[np.where(X2 > 0)[0]]\n",
    "\n",
    "# X1 + X2 >= 5\n",
    "# X2 >= 5 - X1\n",
    "X3 = 5 - X1\n",
    "X3x = X1[np.where(X3 > 0)[0]]\n",
    "X3y = X3[np.where(X3 > 0)[0]]\n",
    "\n",
    "# X1 + X2 >= 80\n",
    "# X2 >= 80 - X1\n",
    "# X4 = 80 - X1\n",
    "# X4x = X1[np.where(X4 > 0)[0]]\n",
    "# X4y = X4[np.where(X4 > 0)[0]]\n",
    "\n",
    "plt.plot(X2x, X2y, label=r'$2y\\leq25-x$')\n",
    "plt.plot(X3x, X3y, label=r'$2y\\leq25-x$')\n",
    "# plt.plot(X4x, X4y, label=r'$2y\\leq25-x$')\n",
    "\n",
    "# Fill feasible region\n",
    "# print(X2y, X3y)\n",
    "# y = np.minimum(X2y[0:9], X3y[0:9])\n",
    "# print(X1.shape, X2y.shape, X3y.shape)\n",
    "num = 10\n",
    "plt.fill_between(X1[0:num], X2y[0:num], X3y[0:num], color='grey', alpha=0.5)\n",
    "# print(X4y[0:9], y)\n",
    "plt.legend(['X1 + X2 <= 2', 'X1 + X2 >= 5', 'infeasible'])\n",
    "plt.xlabel('X1')\n",
    "plt.ylabel('X2')"
   ]
  },
  {
   "cell_type": "markdown",
   "id": "79cfe7ab",
   "metadata": {},
   "source": []
  },
  {
   "cell_type": "code",
   "execution_count": 57,
   "outputs": [
    {
     "name": "stdout",
     "output_type": "stream",
     "text": [
      "[[1. 0. 0.]\n",
      " [2. 1. 0.]\n",
      " [3. 2. 1.]] \n",
      " [[ 4. -5.  6.]\n",
      " [ 0.  4. -5.]\n",
      " [ 0.  0.  4.]]\n"
     ]
    }
   ],
   "source": [
    "import numpy as np\n",
    "\n",
    "np.random.seed(2)\n",
    "def LU_decomposition(A):\n",
    "    n=len(A[0])\n",
    "    L = np.zeros([n,n])\n",
    "    U = np.zeros([n, n])\n",
    "    for i in range(n):\n",
    "        L[i][i]=1\n",
    "        if i==0:\n",
    "            U[0][0] = A[0][0]\n",
    "            for j in range(1,n):\n",
    "                U[0][j]=A[0][j]\n",
    "                L[j][0]=A[j][0]/U[0][0]\n",
    "        else:\n",
    "                for j in range(i, n):#U\n",
    "                    temp=0\n",
    "                    for k in range(0, i):\n",
    "                        temp = temp+L[i][k] * U[k][j]\n",
    "                    U[i][j]=A[i][j]-temp\n",
    "                for j in range(i+1, n):#L\n",
    "                    temp = 0\n",
    "                    for k in range(0, i ):\n",
    "                        temp = temp + L[j][k] * U[k][i]\n",
    "                    L[j][i] = (A[j][i] - temp)/U[i][i]\n",
    "    return L,U\n",
    "\n",
    "if __name__ == '__main__':\n",
    "    A=[[4,-5,6],[8,-6,7],[12,-7,12]]\n",
    "    L,U=LU_decomposition(A)\n",
    "    print(L,'\\n',U)"
   ],
   "metadata": {
    "collapsed": false,
    "pycharm": {
     "name": "#%%\n"
    }
   }
  },
  {
   "cell_type": "code",
   "execution_count": null,
   "outputs": [],
   "source": [],
   "metadata": {
    "collapsed": false,
    "pycharm": {
     "name": "#%%\n"
    }
   }
  }
 ],
 "metadata": {
  "kernelspec": {
   "name": "pytorch_env",
   "language": "python",
   "display_name": "pytorch_env"
  },
  "language_info": {
   "codemirror_mode": {
    "name": "ipython",
    "version": 3
   },
   "file_extension": ".py",
   "mimetype": "text/x-python",
   "name": "python",
   "nbconvert_exporter": "python",
   "pygments_lexer": "ipython3",
   "version": "3.7.9"
  }
 },
 "nbformat": 4,
 "nbformat_minor": 5
}